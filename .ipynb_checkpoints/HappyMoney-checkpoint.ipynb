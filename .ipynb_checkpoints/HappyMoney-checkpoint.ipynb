{
 "cells": [
  {
   "cell_type": "markdown",
   "metadata": {},
   "source": [
    "# The Lending Club\n",
    "\n",
    "The Lending Club dataset is a collections of installment loan records, including credit bureau data (e.g.,\n",
    "FICO, revolving balances, etc.) and loan performance data (e.g., loan status).\n",
    "\n",
    "## Assumptions:\n",
    "\n",
    "- Each row represents 1 borrower\n",
    "- Each borrower has only 1 record/row\n",
    "- Each borrower can have multiple loans/accounts, which is aggregated to the 1 row\n",
    "\n"
   ]
  },
  {
   "cell_type": "code",
   "execution_count": 1,
   "metadata": {},
   "outputs": [],
   "source": [
    "import numpy as np\n",
    "import pandas as pd\n",
    "import matplotlib.pyplot as plt\n",
    "plt.style.use('seaborn-pastel')\n",
    "pd.set_option('display.max_columns', None)"
   ]
  },
  {
   "cell_type": "code",
   "execution_count": null,
   "metadata": {},
   "outputs": [],
   "source": []
  },
  {
   "cell_type": "code",
   "execution_count": 2,
   "metadata": {},
   "outputs": [
    {
     "name": "stderr",
     "output_type": "stream",
     "text": [
      "/home/jonathan/miniconda3/lib/python3.6/site-packages/IPython/core/interactiveshell.py:3049: DtypeWarning: Columns (14,24) have mixed types. Specify dtype option on import or set low_memory=False.\n",
      "  interactivity=interactivity, compiler=compiler, result=result)\n"
     ]
    }
   ],
   "source": [
    "df = pd.read_csv(\"LoanStats_2015_subset.csv\")"
   ]
  },
  {
   "cell_type": "code",
   "execution_count": 3,
   "metadata": {},
   "outputs": [
    {
     "data": {
      "text/html": [
       "<div>\n",
       "<style scoped>\n",
       "    .dataframe tbody tr th:only-of-type {\n",
       "        vertical-align: middle;\n",
       "    }\n",
       "\n",
       "    .dataframe tbody tr th {\n",
       "        vertical-align: top;\n",
       "    }\n",
       "\n",
       "    .dataframe thead th {\n",
       "        text-align: right;\n",
       "    }\n",
       "</style>\n",
       "<table border=\"1\" class=\"dataframe\">\n",
       "  <thead>\n",
       "    <tr style=\"text-align: right;\">\n",
       "      <th></th>\n",
       "      <th>acc_now_delinq</th>\n",
       "      <th>acc_open_past_24mths</th>\n",
       "      <th>addr_state</th>\n",
       "      <th>all_util</th>\n",
       "      <th>annual_inc</th>\n",
       "      <th>annual_inc_joint</th>\n",
       "      <th>application_type</th>\n",
       "      <th>avg_cur_bal</th>\n",
       "      <th>bc_open_to_buy</th>\n",
       "      <th>bc_util</th>\n",
       "      <th>chargeoff_within_12_mths</th>\n",
       "      <th>collections_12_mths_ex_med</th>\n",
       "      <th>delinq_2yrs</th>\n",
       "      <th>delinq_amnt</th>\n",
       "      <th>desc</th>\n",
       "      <th>dti</th>\n",
       "      <th>dti_joint</th>\n",
       "      <th>earliest_cr_line</th>\n",
       "      <th>emp_length</th>\n",
       "      <th>emp_title</th>\n",
       "      <th>funded_amnt</th>\n",
       "      <th>funded_amnt_inv</th>\n",
       "      <th>grade</th>\n",
       "      <th>home_ownership</th>\n",
       "      <th>id</th>\n",
       "      <th>il_util</th>\n",
       "      <th>initial_list_status</th>\n",
       "      <th>inq_fi</th>\n",
       "      <th>inq_last_12m</th>\n",
       "      <th>inq_last_6mths</th>\n",
       "      <th>installment</th>\n",
       "      <th>int_rate</th>\n",
       "      <th>issue_d</th>\n",
       "      <th>loan_amnt</th>\n",
       "      <th>loan_status</th>\n",
       "      <th>max_bal_bc</th>\n",
       "      <th>member_id</th>\n",
       "      <th>mo_sin_old_il_acct</th>\n",
       "      <th>mo_sin_old_rev_tl_op</th>\n",
       "      <th>mo_sin_rcnt_rev_tl_op</th>\n",
       "      <th>mo_sin_rcnt_tl</th>\n",
       "      <th>mort_acc</th>\n",
       "      <th>mths_since_last_delinq</th>\n",
       "      <th>mths_since_last_major_derog</th>\n",
       "      <th>mths_since_last_record</th>\n",
       "      <th>mths_since_rcnt_il</th>\n",
       "      <th>mths_since_recent_bc</th>\n",
       "      <th>mths_since_recent_bc_dlq</th>\n",
       "      <th>mths_since_recent_inq</th>\n",
       "      <th>mths_since_recent_revol_delinq</th>\n",
       "      <th>num_accts_ever_120_pd</th>\n",
       "      <th>num_actv_bc_tl</th>\n",
       "      <th>num_actv_rev_tl</th>\n",
       "      <th>num_bc_sats</th>\n",
       "      <th>num_bc_tl</th>\n",
       "      <th>num_il_tl</th>\n",
       "      <th>num_op_rev_tl</th>\n",
       "      <th>num_rev_accts</th>\n",
       "      <th>num_rev_tl_bal_gt_0</th>\n",
       "      <th>num_sats</th>\n",
       "      <th>num_tl_120dpd_2m</th>\n",
       "      <th>num_tl_30dpd</th>\n",
       "      <th>num_tl_90g_dpd_24m</th>\n",
       "      <th>num_tl_op_past_12m</th>\n",
       "      <th>open_acc</th>\n",
       "      <th>open_acc_6m</th>\n",
       "      <th>open_il_12m</th>\n",
       "      <th>open_il_24m</th>\n",
       "      <th>open_act_il</th>\n",
       "      <th>open_rv_12m</th>\n",
       "      <th>open_rv_24m</th>\n",
       "      <th>pct_tl_nvr_dlq</th>\n",
       "      <th>percent_bc_gt_75</th>\n",
       "      <th>policy_code</th>\n",
       "      <th>pub_rec</th>\n",
       "      <th>pub_rec_bankruptcies</th>\n",
       "      <th>purpose</th>\n",
       "      <th>revol_bal</th>\n",
       "      <th>revol_util</th>\n",
       "      <th>sub_grade</th>\n",
       "      <th>tax_liens</th>\n",
       "      <th>term</th>\n",
       "      <th>title</th>\n",
       "      <th>tot_cur_bal</th>\n",
       "      <th>tot_hi_cred_lim</th>\n",
       "      <th>total_acc</th>\n",
       "      <th>total_bal_ex_mort</th>\n",
       "      <th>total_bal_il</th>\n",
       "      <th>total_bc_limit</th>\n",
       "      <th>total_cu_tl</th>\n",
       "      <th>total_il_high_credit_limit</th>\n",
       "      <th>total_rev_hi_lim</th>\n",
       "      <th>verification_status</th>\n",
       "      <th>zip_code</th>\n",
       "      <th>revol_bal_joint</th>\n",
       "      <th>sec_app_earliest_cr_line</th>\n",
       "      <th>sec_app_inq_last_6mths</th>\n",
       "      <th>sec_app_mort_acc</th>\n",
       "      <th>sec_app_open_acc</th>\n",
       "      <th>sec_app_revol_util</th>\n",
       "      <th>sec_app_open_act_il</th>\n",
       "      <th>sec_app_num_rev_accts</th>\n",
       "      <th>sec_app_chargeoff_within_12_mths</th>\n",
       "      <th>sec_app_collections_12_mths_ex_med</th>\n",
       "      <th>sec_app_mths_since_last_major_derog</th>\n",
       "    </tr>\n",
       "  </thead>\n",
       "  <tbody>\n",
       "    <tr>\n",
       "      <th>0</th>\n",
       "      <td>0.0</td>\n",
       "      <td>8.0</td>\n",
       "      <td>KS</td>\n",
       "      <td>42.0</td>\n",
       "      <td>65000.0</td>\n",
       "      <td>NaN</td>\n",
       "      <td>Individual</td>\n",
       "      <td>10086.0</td>\n",
       "      <td>41055.0</td>\n",
       "      <td>17.1</td>\n",
       "      <td>0.0</td>\n",
       "      <td>0.0</td>\n",
       "      <td>0.0</td>\n",
       "      <td>0.0</td>\n",
       "      <td>NaN</td>\n",
       "      <td>23.84</td>\n",
       "      <td>NaN</td>\n",
       "      <td>Nov-2003</td>\n",
       "      <td>10+ years</td>\n",
       "      <td>Teacher</td>\n",
       "      <td>12000.0</td>\n",
       "      <td>12000.0</td>\n",
       "      <td>B</td>\n",
       "      <td>MORTGAGE</td>\n",
       "      <td>NaN</td>\n",
       "      <td>61.0</td>\n",
       "      <td>w</td>\n",
       "      <td>0.0</td>\n",
       "      <td>0.0</td>\n",
       "      <td>0.0</td>\n",
       "      <td>253.79</td>\n",
       "      <td>9.80%</td>\n",
       "      <td>Dec-2015</td>\n",
       "      <td>12000.0</td>\n",
       "      <td>Fully Paid</td>\n",
       "      <td>7909.0</td>\n",
       "      <td>NaN</td>\n",
       "      <td>127.0</td>\n",
       "      <td>145.0</td>\n",
       "      <td>4.0</td>\n",
       "      <td>1.0</td>\n",
       "      <td>2.0</td>\n",
       "      <td>NaN</td>\n",
       "      <td>NaN</td>\n",
       "      <td>NaN</td>\n",
       "      <td>1.0</td>\n",
       "      <td>4.0</td>\n",
       "      <td>NaN</td>\n",
       "      <td>14.0</td>\n",
       "      <td>NaN</td>\n",
       "      <td>0.0</td>\n",
       "      <td>2.0</td>\n",
       "      <td>4.0</td>\n",
       "      <td>5.0</td>\n",
       "      <td>10.0</td>\n",
       "      <td>13.0</td>\n",
       "      <td>11.0</td>\n",
       "      <td>22.0</td>\n",
       "      <td>4.0</td>\n",
       "      <td>18.0</td>\n",
       "      <td>0.0</td>\n",
       "      <td>0.0</td>\n",
       "      <td>0.0</td>\n",
       "      <td>3.0</td>\n",
       "      <td>18.0</td>\n",
       "      <td>2.0</td>\n",
       "      <td>2.0</td>\n",
       "      <td>3.0</td>\n",
       "      <td>6.0</td>\n",
       "      <td>1.0</td>\n",
       "      <td>5.0</td>\n",
       "      <td>100.0</td>\n",
       "      <td>0.0</td>\n",
       "      <td>1.0</td>\n",
       "      <td>0.0</td>\n",
       "      <td>0.0</td>\n",
       "      <td>debt_consolidation</td>\n",
       "      <td>9786.0</td>\n",
       "      <td>13.4%</td>\n",
       "      <td>B3</td>\n",
       "      <td>0.0</td>\n",
       "      <td>60 months</td>\n",
       "      <td>Debt consolidation</td>\n",
       "      <td>181540.0</td>\n",
       "      <td>291626.0</td>\n",
       "      <td>37.0</td>\n",
       "      <td>74787.0</td>\n",
       "      <td>65001.0</td>\n",
       "      <td>49500.0</td>\n",
       "      <td>0.0</td>\n",
       "      <td>105910.0</td>\n",
       "      <td>73200.0</td>\n",
       "      <td>Not Verified</td>\n",
       "      <td>660xx</td>\n",
       "      <td>NaN</td>\n",
       "      <td>NaN</td>\n",
       "      <td>NaN</td>\n",
       "      <td>NaN</td>\n",
       "      <td>NaN</td>\n",
       "      <td>NaN</td>\n",
       "      <td>NaN</td>\n",
       "      <td>NaN</td>\n",
       "      <td>NaN</td>\n",
       "      <td>NaN</td>\n",
       "      <td>NaN</td>\n",
       "    </tr>\n",
       "    <tr>\n",
       "      <th>1</th>\n",
       "      <td>0.0</td>\n",
       "      <td>1.0</td>\n",
       "      <td>VT</td>\n",
       "      <td>34.0</td>\n",
       "      <td>150000.0</td>\n",
       "      <td>NaN</td>\n",
       "      <td>Individual</td>\n",
       "      <td>61551.0</td>\n",
       "      <td>24661.0</td>\n",
       "      <td>44.0</td>\n",
       "      <td>0.0</td>\n",
       "      <td>0.0</td>\n",
       "      <td>0.0</td>\n",
       "      <td>0.0</td>\n",
       "      <td>NaN</td>\n",
       "      <td>9.54</td>\n",
       "      <td>NaN</td>\n",
       "      <td>Feb-1996</td>\n",
       "      <td>1 year</td>\n",
       "      <td>Director</td>\n",
       "      <td>25000.0</td>\n",
       "      <td>25000.0</td>\n",
       "      <td>A</td>\n",
       "      <td>MORTGAGE</td>\n",
       "      <td>NaN</td>\n",
       "      <td>6.0</td>\n",
       "      <td>w</td>\n",
       "      <td>0.0</td>\n",
       "      <td>0.0</td>\n",
       "      <td>0.0</td>\n",
       "      <td>752.87</td>\n",
       "      <td>5.32%</td>\n",
       "      <td>Dec-2015</td>\n",
       "      <td>25000.0</td>\n",
       "      <td>Current</td>\n",
       "      <td>19339.0</td>\n",
       "      <td>NaN</td>\n",
       "      <td>166.0</td>\n",
       "      <td>238.0</td>\n",
       "      <td>4.0</td>\n",
       "      <td>4.0</td>\n",
       "      <td>7.0</td>\n",
       "      <td>NaN</td>\n",
       "      <td>NaN</td>\n",
       "      <td>NaN</td>\n",
       "      <td>28.0</td>\n",
       "      <td>73.0</td>\n",
       "      <td>NaN</td>\n",
       "      <td>NaN</td>\n",
       "      <td>NaN</td>\n",
       "      <td>0.0</td>\n",
       "      <td>1.0</td>\n",
       "      <td>1.0</td>\n",
       "      <td>3.0</td>\n",
       "      <td>3.0</td>\n",
       "      <td>4.0</td>\n",
       "      <td>4.0</td>\n",
       "      <td>7.0</td>\n",
       "      <td>1.0</td>\n",
       "      <td>7.0</td>\n",
       "      <td>0.0</td>\n",
       "      <td>0.0</td>\n",
       "      <td>0.0</td>\n",
       "      <td>1.0</td>\n",
       "      <td>7.0</td>\n",
       "      <td>1.0</td>\n",
       "      <td>0.0</td>\n",
       "      <td>0.0</td>\n",
       "      <td>2.0</td>\n",
       "      <td>1.0</td>\n",
       "      <td>1.0</td>\n",
       "      <td>100.0</td>\n",
       "      <td>0.0</td>\n",
       "      <td>1.0</td>\n",
       "      <td>0.0</td>\n",
       "      <td>0.0</td>\n",
       "      <td>credit_card</td>\n",
       "      <td>19339.0</td>\n",
       "      <td>42.5%</td>\n",
       "      <td>A1</td>\n",
       "      <td>0.0</td>\n",
       "      <td>36 months</td>\n",
       "      <td>Credit card refinancing</td>\n",
       "      <td>430856.0</td>\n",
       "      <td>512381.0</td>\n",
       "      <td>18.0</td>\n",
       "      <td>44786.0</td>\n",
       "      <td>25447.0</td>\n",
       "      <td>44000.0</td>\n",
       "      <td>7.0</td>\n",
       "      <td>51081.0</td>\n",
       "      <td>45500.0</td>\n",
       "      <td>Not Verified</td>\n",
       "      <td>054xx</td>\n",
       "      <td>NaN</td>\n",
       "      <td>NaN</td>\n",
       "      <td>NaN</td>\n",
       "      <td>NaN</td>\n",
       "      <td>NaN</td>\n",
       "      <td>NaN</td>\n",
       "      <td>NaN</td>\n",
       "      <td>NaN</td>\n",
       "      <td>NaN</td>\n",
       "      <td>NaN</td>\n",
       "      <td>NaN</td>\n",
       "    </tr>\n",
       "    <tr>\n",
       "      <th>2</th>\n",
       "      <td>0.0</td>\n",
       "      <td>8.0</td>\n",
       "      <td>IN</td>\n",
       "      <td>50.0</td>\n",
       "      <td>75000.0</td>\n",
       "      <td>NaN</td>\n",
       "      <td>Individual</td>\n",
       "      <td>7176.0</td>\n",
       "      <td>23476.0</td>\n",
       "      <td>59.9</td>\n",
       "      <td>0.0</td>\n",
       "      <td>0.0</td>\n",
       "      <td>0.0</td>\n",
       "      <td>0.0</td>\n",
       "      <td>NaN</td>\n",
       "      <td>31.88</td>\n",
       "      <td>NaN</td>\n",
       "      <td>Oct-2002</td>\n",
       "      <td>10+ years</td>\n",
       "      <td>Engineer</td>\n",
       "      <td>28000.0</td>\n",
       "      <td>28000.0</td>\n",
       "      <td>D</td>\n",
       "      <td>MORTGAGE</td>\n",
       "      <td>NaN</td>\n",
       "      <td>44.0</td>\n",
       "      <td>w</td>\n",
       "      <td>1.0</td>\n",
       "      <td>0.0</td>\n",
       "      <td>0.0</td>\n",
       "      <td>718.51</td>\n",
       "      <td>18.49%</td>\n",
       "      <td>Dec-2015</td>\n",
       "      <td>28000.0</td>\n",
       "      <td>Current</td>\n",
       "      <td>7213.0</td>\n",
       "      <td>NaN</td>\n",
       "      <td>143.0</td>\n",
       "      <td>158.0</td>\n",
       "      <td>4.0</td>\n",
       "      <td>4.0</td>\n",
       "      <td>2.0</td>\n",
       "      <td>NaN</td>\n",
       "      <td>NaN</td>\n",
       "      <td>NaN</td>\n",
       "      <td>22.0</td>\n",
       "      <td>10.0</td>\n",
       "      <td>NaN</td>\n",
       "      <td>16.0</td>\n",
       "      <td>NaN</td>\n",
       "      <td>0.0</td>\n",
       "      <td>14.0</td>\n",
       "      <td>20.0</td>\n",
       "      <td>14.0</td>\n",
       "      <td>18.0</td>\n",
       "      <td>9.0</td>\n",
       "      <td>24.0</td>\n",
       "      <td>34.0</td>\n",
       "      <td>20.0</td>\n",
       "      <td>27.0</td>\n",
       "      <td>0.0</td>\n",
       "      <td>0.0</td>\n",
       "      <td>0.0</td>\n",
       "      <td>2.0</td>\n",
       "      <td>27.0</td>\n",
       "      <td>1.0</td>\n",
       "      <td>0.0</td>\n",
       "      <td>2.0</td>\n",
       "      <td>2.0</td>\n",
       "      <td>2.0</td>\n",
       "      <td>6.0</td>\n",
       "      <td>100.0</td>\n",
       "      <td>50.0</td>\n",
       "      <td>1.0</td>\n",
       "      <td>0.0</td>\n",
       "      <td>0.0</td>\n",
       "      <td>debt_consolidation</td>\n",
       "      <td>43413.0</td>\n",
       "      <td>51.9%</td>\n",
       "      <td>D5</td>\n",
       "      <td>0.0</td>\n",
       "      <td>60 months</td>\n",
       "      <td>Debt consolidation</td>\n",
       "      <td>193745.0</td>\n",
       "      <td>267312.0</td>\n",
       "      <td>46.0</td>\n",
       "      <td>57302.0</td>\n",
       "      <td>13889.0</td>\n",
       "      <td>58500.0</td>\n",
       "      <td>0.0</td>\n",
       "      <td>31758.0</td>\n",
       "      <td>83600.0</td>\n",
       "      <td>Verified</td>\n",
       "      <td>471xx</td>\n",
       "      <td>NaN</td>\n",
       "      <td>NaN</td>\n",
       "      <td>NaN</td>\n",
       "      <td>NaN</td>\n",
       "      <td>NaN</td>\n",
       "      <td>NaN</td>\n",
       "      <td>NaN</td>\n",
       "      <td>NaN</td>\n",
       "      <td>NaN</td>\n",
       "      <td>NaN</td>\n",
       "      <td>NaN</td>\n",
       "    </tr>\n",
       "    <tr>\n",
       "      <th>3</th>\n",
       "      <td>0.0</td>\n",
       "      <td>7.0</td>\n",
       "      <td>OH</td>\n",
       "      <td>71.0</td>\n",
       "      <td>175000.0</td>\n",
       "      <td>NaN</td>\n",
       "      <td>Individual</td>\n",
       "      <td>51015.0</td>\n",
       "      <td>21569.0</td>\n",
       "      <td>50.3</td>\n",
       "      <td>0.0</td>\n",
       "      <td>0.0</td>\n",
       "      <td>0.0</td>\n",
       "      <td>0.0</td>\n",
       "      <td>NaN</td>\n",
       "      <td>18.50</td>\n",
       "      <td>NaN</td>\n",
       "      <td>Aug-1997</td>\n",
       "      <td>2 years</td>\n",
       "      <td>Vice-President</td>\n",
       "      <td>30000.0</td>\n",
       "      <td>30000.0</td>\n",
       "      <td>D</td>\n",
       "      <td>MORTGAGE</td>\n",
       "      <td>NaN</td>\n",
       "      <td>84.0</td>\n",
       "      <td>w</td>\n",
       "      <td>4.0</td>\n",
       "      <td>3.0</td>\n",
       "      <td>1.0</td>\n",
       "      <td>1051.31</td>\n",
       "      <td>15.77%</td>\n",
       "      <td>Dec-2015</td>\n",
       "      <td>30000.0</td>\n",
       "      <td>Fully Paid</td>\n",
       "      <td>12141.0</td>\n",
       "      <td>NaN</td>\n",
       "      <td>118.0</td>\n",
       "      <td>220.0</td>\n",
       "      <td>16.0</td>\n",
       "      <td>6.0</td>\n",
       "      <td>3.0</td>\n",
       "      <td>61.0</td>\n",
       "      <td>NaN</td>\n",
       "      <td>NaN</td>\n",
       "      <td>6.0</td>\n",
       "      <td>16.0</td>\n",
       "      <td>NaN</td>\n",
       "      <td>0.0</td>\n",
       "      <td>61.0</td>\n",
       "      <td>0.0</td>\n",
       "      <td>2.0</td>\n",
       "      <td>2.0</td>\n",
       "      <td>3.0</td>\n",
       "      <td>7.0</td>\n",
       "      <td>9.0</td>\n",
       "      <td>4.0</td>\n",
       "      <td>11.0</td>\n",
       "      <td>2.0</td>\n",
       "      <td>9.0</td>\n",
       "      <td>0.0</td>\n",
       "      <td>0.0</td>\n",
       "      <td>0.0</td>\n",
       "      <td>3.0</td>\n",
       "      <td>9.0</td>\n",
       "      <td>2.0</td>\n",
       "      <td>2.0</td>\n",
       "      <td>4.0</td>\n",
       "      <td>4.0</td>\n",
       "      <td>0.0</td>\n",
       "      <td>1.0</td>\n",
       "      <td>95.7</td>\n",
       "      <td>33.3</td>\n",
       "      <td>1.0</td>\n",
       "      <td>0.0</td>\n",
       "      <td>0.0</td>\n",
       "      <td>home_improvement</td>\n",
       "      <td>21831.0</td>\n",
       "      <td>50.3%</td>\n",
       "      <td>D1</td>\n",
       "      <td>0.0</td>\n",
       "      <td>36 months</td>\n",
       "      <td>Home improvement</td>\n",
       "      <td>408118.0</td>\n",
       "      <td>447599.0</td>\n",
       "      <td>23.0</td>\n",
       "      <td>152571.0</td>\n",
       "      <td>130740.0</td>\n",
       "      <td>43400.0</td>\n",
       "      <td>3.0</td>\n",
       "      <td>146568.0</td>\n",
       "      <td>43400.0</td>\n",
       "      <td>Not Verified</td>\n",
       "      <td>430xx</td>\n",
       "      <td>NaN</td>\n",
       "      <td>NaN</td>\n",
       "      <td>NaN</td>\n",
       "      <td>NaN</td>\n",
       "      <td>NaN</td>\n",
       "      <td>NaN</td>\n",
       "      <td>NaN</td>\n",
       "      <td>NaN</td>\n",
       "      <td>NaN</td>\n",
       "      <td>NaN</td>\n",
       "      <td>NaN</td>\n",
       "    </tr>\n",
       "    <tr>\n",
       "      <th>4</th>\n",
       "      <td>0.0</td>\n",
       "      <td>1.0</td>\n",
       "      <td>FL</td>\n",
       "      <td>91.0</td>\n",
       "      <td>44000.0</td>\n",
       "      <td>NaN</td>\n",
       "      <td>Individual</td>\n",
       "      <td>19041.0</td>\n",
       "      <td>0.0</td>\n",
       "      <td>102.4</td>\n",
       "      <td>0.0</td>\n",
       "      <td>0.0</td>\n",
       "      <td>0.0</td>\n",
       "      <td>0.0</td>\n",
       "      <td>NaN</td>\n",
       "      <td>17.56</td>\n",
       "      <td>NaN</td>\n",
       "      <td>Jun-2006</td>\n",
       "      <td>&lt; 1 year</td>\n",
       "      <td>RN</td>\n",
       "      <td>17600.0</td>\n",
       "      <td>17600.0</td>\n",
       "      <td>E</td>\n",
       "      <td>RENT</td>\n",
       "      <td>NaN</td>\n",
       "      <td>83.0</td>\n",
       "      <td>w</td>\n",
       "      <td>0.0</td>\n",
       "      <td>0.0</td>\n",
       "      <td>0.0</td>\n",
       "      <td>465.22</td>\n",
       "      <td>19.89%</td>\n",
       "      <td>Dec-2015</td>\n",
       "      <td>17600.0</td>\n",
       "      <td>Current</td>\n",
       "      <td>5998.0</td>\n",
       "      <td>NaN</td>\n",
       "      <td>112.0</td>\n",
       "      <td>114.0</td>\n",
       "      <td>25.0</td>\n",
       "      <td>13.0</td>\n",
       "      <td>0.0</td>\n",
       "      <td>NaN</td>\n",
       "      <td>NaN</td>\n",
       "      <td>NaN</td>\n",
       "      <td>13.0</td>\n",
       "      <td>25.0</td>\n",
       "      <td>NaN</td>\n",
       "      <td>NaN</td>\n",
       "      <td>NaN</td>\n",
       "      <td>0.0</td>\n",
       "      <td>3.0</td>\n",
       "      <td>3.0</td>\n",
       "      <td>3.0</td>\n",
       "      <td>3.0</td>\n",
       "      <td>21.0</td>\n",
       "      <td>3.0</td>\n",
       "      <td>4.0</td>\n",
       "      <td>3.0</td>\n",
       "      <td>7.0</td>\n",
       "      <td>0.0</td>\n",
       "      <td>0.0</td>\n",
       "      <td>0.0</td>\n",
       "      <td>0.0</td>\n",
       "      <td>7.0</td>\n",
       "      <td>0.0</td>\n",
       "      <td>0.0</td>\n",
       "      <td>1.0</td>\n",
       "      <td>4.0</td>\n",
       "      <td>0.0</td>\n",
       "      <td>0.0</td>\n",
       "      <td>100.0</td>\n",
       "      <td>100.0</td>\n",
       "      <td>1.0</td>\n",
       "      <td>0.0</td>\n",
       "      <td>0.0</td>\n",
       "      <td>credit_card</td>\n",
       "      <td>12900.0</td>\n",
       "      <td>102.4%</td>\n",
       "      <td>E3</td>\n",
       "      <td>0.0</td>\n",
       "      <td>60 months</td>\n",
       "      <td>NaN</td>\n",
       "      <td>133285.0</td>\n",
       "      <td>139633.0</td>\n",
       "      <td>25.0</td>\n",
       "      <td>133285.0</td>\n",
       "      <td>120385.0</td>\n",
       "      <td>12600.0</td>\n",
       "      <td>1.0</td>\n",
       "      <td>127033.0</td>\n",
       "      <td>12600.0</td>\n",
       "      <td>Verified</td>\n",
       "      <td>322xx</td>\n",
       "      <td>NaN</td>\n",
       "      <td>NaN</td>\n",
       "      <td>NaN</td>\n",
       "      <td>NaN</td>\n",
       "      <td>NaN</td>\n",
       "      <td>NaN</td>\n",
       "      <td>NaN</td>\n",
       "      <td>NaN</td>\n",
       "      <td>NaN</td>\n",
       "      <td>NaN</td>\n",
       "      <td>NaN</td>\n",
       "    </tr>\n",
       "    <tr>\n",
       "      <th>5</th>\n",
       "      <td>0.0</td>\n",
       "      <td>1.0</td>\n",
       "      <td>OH</td>\n",
       "      <td>52.0</td>\n",
       "      <td>104000.0</td>\n",
       "      <td>NaN</td>\n",
       "      <td>Individual</td>\n",
       "      <td>3068.0</td>\n",
       "      <td>8302.0</td>\n",
       "      <td>75.0</td>\n",
       "      <td>0.0</td>\n",
       "      <td>0.0</td>\n",
       "      <td>0.0</td>\n",
       "      <td>0.0</td>\n",
       "      <td>NaN</td>\n",
       "      <td>14.01</td>\n",
       "      <td>NaN</td>\n",
       "      <td>Nov-2000</td>\n",
       "      <td>8 years</td>\n",
       "      <td>Aviation Safety Inspector</td>\n",
       "      <td>33600.0</td>\n",
       "      <td>33600.0</td>\n",
       "      <td>B</td>\n",
       "      <td>RENT</td>\n",
       "      <td>NaN</td>\n",
       "      <td>NaN</td>\n",
       "      <td>w</td>\n",
       "      <td>1.0</td>\n",
       "      <td>5.0</td>\n",
       "      <td>2.0</td>\n",
       "      <td>1096.53</td>\n",
       "      <td>10.78%</td>\n",
       "      <td>Dec-2015</td>\n",
       "      <td>33600.0</td>\n",
       "      <td>Fully Paid</td>\n",
       "      <td>12992.0</td>\n",
       "      <td>NaN</td>\n",
       "      <td>156.0</td>\n",
       "      <td>181.0</td>\n",
       "      <td>8.0</td>\n",
       "      <td>8.0</td>\n",
       "      <td>1.0</td>\n",
       "      <td>29.0</td>\n",
       "      <td>29.0</td>\n",
       "      <td>NaN</td>\n",
       "      <td>50.0</td>\n",
       "      <td>8.0</td>\n",
       "      <td>NaN</td>\n",
       "      <td>1.0</td>\n",
       "      <td>NaN</td>\n",
       "      <td>1.0</td>\n",
       "      <td>5.0</td>\n",
       "      <td>9.0</td>\n",
       "      <td>6.0</td>\n",
       "      <td>12.0</td>\n",
       "      <td>7.0</td>\n",
       "      <td>13.0</td>\n",
       "      <td>23.0</td>\n",
       "      <td>10.0</td>\n",
       "      <td>14.0</td>\n",
       "      <td>0.0</td>\n",
       "      <td>0.0</td>\n",
       "      <td>0.0</td>\n",
       "      <td>1.0</td>\n",
       "      <td>14.0</td>\n",
       "      <td>0.0</td>\n",
       "      <td>0.0</td>\n",
       "      <td>0.0</td>\n",
       "      <td>1.0</td>\n",
       "      <td>1.0</td>\n",
       "      <td>1.0</td>\n",
       "      <td>96.8</td>\n",
       "      <td>33.3</td>\n",
       "      <td>1.0</td>\n",
       "      <td>0.0</td>\n",
       "      <td>0.0</td>\n",
       "      <td>debt_consolidation</td>\n",
       "      <td>28475.0</td>\n",
       "      <td>51.8%</td>\n",
       "      <td>B4</td>\n",
       "      <td>0.0</td>\n",
       "      <td>36 months</td>\n",
       "      <td>Debt consolidation</td>\n",
       "      <td>42952.0</td>\n",
       "      <td>92909.0</td>\n",
       "      <td>31.0</td>\n",
       "      <td>42952.0</td>\n",
       "      <td>14477.0</td>\n",
       "      <td>33200.0</td>\n",
       "      <td>0.0</td>\n",
       "      <td>37909.0</td>\n",
       "      <td>55000.0</td>\n",
       "      <td>Source Verified</td>\n",
       "      <td>441xx</td>\n",
       "      <td>NaN</td>\n",
       "      <td>NaN</td>\n",
       "      <td>NaN</td>\n",
       "      <td>NaN</td>\n",
       "      <td>NaN</td>\n",
       "      <td>NaN</td>\n",
       "      <td>NaN</td>\n",
       "      <td>NaN</td>\n",
       "      <td>NaN</td>\n",
       "      <td>NaN</td>\n",
       "      <td>NaN</td>\n",
       "    </tr>\n",
       "    <tr>\n",
       "      <th>6</th>\n",
       "      <td>0.0</td>\n",
       "      <td>4.0</td>\n",
       "      <td>OH</td>\n",
       "      <td>30.0</td>\n",
       "      <td>38000.0</td>\n",
       "      <td>NaN</td>\n",
       "      <td>Individual</td>\n",
       "      <td>1150.0</td>\n",
       "      <td>6924.0</td>\n",
       "      <td>43.7</td>\n",
       "      <td>0.0</td>\n",
       "      <td>0.0</td>\n",
       "      <td>0.0</td>\n",
       "      <td>0.0</td>\n",
       "      <td>NaN</td>\n",
       "      <td>21.07</td>\n",
       "      <td>NaN</td>\n",
       "      <td>Jan-2011</td>\n",
       "      <td>5 years</td>\n",
       "      <td>general manager</td>\n",
       "      <td>11550.0</td>\n",
       "      <td>11550.0</td>\n",
       "      <td>D</td>\n",
       "      <td>RENT</td>\n",
       "      <td>NaN</td>\n",
       "      <td>20.0</td>\n",
       "      <td>w</td>\n",
       "      <td>4.0</td>\n",
       "      <td>2.0</td>\n",
       "      <td>0.0</td>\n",
       "      <td>284.51</td>\n",
       "      <td>16.59%</td>\n",
       "      <td>Dec-2015</td>\n",
       "      <td>11550.0</td>\n",
       "      <td>Charged Off</td>\n",
       "      <td>2701.0</td>\n",
       "      <td>NaN</td>\n",
       "      <td>39.0</td>\n",
       "      <td>59.0</td>\n",
       "      <td>5.0</td>\n",
       "      <td>5.0</td>\n",
       "      <td>0.0</td>\n",
       "      <td>NaN</td>\n",
       "      <td>NaN</td>\n",
       "      <td>NaN</td>\n",
       "      <td>13.0</td>\n",
       "      <td>5.0</td>\n",
       "      <td>NaN</td>\n",
       "      <td>0.0</td>\n",
       "      <td>NaN</td>\n",
       "      <td>0.0</td>\n",
       "      <td>3.0</td>\n",
       "      <td>4.0</td>\n",
       "      <td>5.0</td>\n",
       "      <td>5.0</td>\n",
       "      <td>2.0</td>\n",
       "      <td>7.0</td>\n",
       "      <td>10.0</td>\n",
       "      <td>5.0</td>\n",
       "      <td>9.0</td>\n",
       "      <td>0.0</td>\n",
       "      <td>0.0</td>\n",
       "      <td>0.0</td>\n",
       "      <td>2.0</td>\n",
       "      <td>9.0</td>\n",
       "      <td>1.0</td>\n",
       "      <td>0.0</td>\n",
       "      <td>1.0</td>\n",
       "      <td>2.0</td>\n",
       "      <td>2.0</td>\n",
       "      <td>3.0</td>\n",
       "      <td>100.0</td>\n",
       "      <td>60.0</td>\n",
       "      <td>1.0</td>\n",
       "      <td>0.0</td>\n",
       "      <td>0.0</td>\n",
       "      <td>credit_card</td>\n",
       "      <td>7179.0</td>\n",
       "      <td>39.7%</td>\n",
       "      <td>D2</td>\n",
       "      <td>0.0</td>\n",
       "      <td>60 months</td>\n",
       "      <td>Credit card refinancing</td>\n",
       "      <td>10353.0</td>\n",
       "      <td>34105.0</td>\n",
       "      <td>12.0</td>\n",
       "      <td>10353.0</td>\n",
       "      <td>3174.0</td>\n",
       "      <td>12300.0</td>\n",
       "      <td>1.0</td>\n",
       "      <td>16005.0</td>\n",
       "      <td>18100.0</td>\n",
       "      <td>Not Verified</td>\n",
       "      <td>436xx</td>\n",
       "      <td>NaN</td>\n",
       "      <td>NaN</td>\n",
       "      <td>NaN</td>\n",
       "      <td>NaN</td>\n",
       "      <td>NaN</td>\n",
       "      <td>NaN</td>\n",
       "      <td>NaN</td>\n",
       "      <td>NaN</td>\n",
       "      <td>NaN</td>\n",
       "      <td>NaN</td>\n",
       "      <td>NaN</td>\n",
       "    </tr>\n",
       "    <tr>\n",
       "      <th>7</th>\n",
       "      <td>0.0</td>\n",
       "      <td>2.0</td>\n",
       "      <td>VA</td>\n",
       "      <td>57.0</td>\n",
       "      <td>109000.0</td>\n",
       "      <td>NaN</td>\n",
       "      <td>Individual</td>\n",
       "      <td>33976.0</td>\n",
       "      <td>17538.0</td>\n",
       "      <td>54.3</td>\n",
       "      <td>0.0</td>\n",
       "      <td>0.0</td>\n",
       "      <td>0.0</td>\n",
       "      <td>0.0</td>\n",
       "      <td>NaN</td>\n",
       "      <td>26.02</td>\n",
       "      <td>NaN</td>\n",
       "      <td>Dec-2001</td>\n",
       "      <td>10+ years</td>\n",
       "      <td>Sales Manager</td>\n",
       "      <td>25000.0</td>\n",
       "      <td>25000.0</td>\n",
       "      <td>A</td>\n",
       "      <td>MORTGAGE</td>\n",
       "      <td>NaN</td>\n",
       "      <td>58.0</td>\n",
       "      <td>w</td>\n",
       "      <td>1.0</td>\n",
       "      <td>1.0</td>\n",
       "      <td>1.0</td>\n",
       "      <td>777.55</td>\n",
       "      <td>7.49%</td>\n",
       "      <td>Dec-2015</td>\n",
       "      <td>25000.0</td>\n",
       "      <td>Fully Paid</td>\n",
       "      <td>8937.0</td>\n",
       "      <td>NaN</td>\n",
       "      <td>142.0</td>\n",
       "      <td>168.0</td>\n",
       "      <td>13.0</td>\n",
       "      <td>13.0</td>\n",
       "      <td>3.0</td>\n",
       "      <td>NaN</td>\n",
       "      <td>NaN</td>\n",
       "      <td>NaN</td>\n",
       "      <td>13.0</td>\n",
       "      <td>13.0</td>\n",
       "      <td>NaN</td>\n",
       "      <td>0.0</td>\n",
       "      <td>NaN</td>\n",
       "      <td>0.0</td>\n",
       "      <td>3.0</td>\n",
       "      <td>3.0</td>\n",
       "      <td>5.0</td>\n",
       "      <td>6.0</td>\n",
       "      <td>7.0</td>\n",
       "      <td>5.0</td>\n",
       "      <td>9.0</td>\n",
       "      <td>3.0</td>\n",
       "      <td>9.0</td>\n",
       "      <td>0.0</td>\n",
       "      <td>0.0</td>\n",
       "      <td>0.0</td>\n",
       "      <td>0.0</td>\n",
       "      <td>9.0</td>\n",
       "      <td>0.0</td>\n",
       "      <td>0.0</td>\n",
       "      <td>1.0</td>\n",
       "      <td>3.0</td>\n",
       "      <td>0.0</td>\n",
       "      <td>1.0</td>\n",
       "      <td>100.0</td>\n",
       "      <td>20.0</td>\n",
       "      <td>1.0</td>\n",
       "      <td>0.0</td>\n",
       "      <td>0.0</td>\n",
       "      <td>debt_consolidation</td>\n",
       "      <td>20862.0</td>\n",
       "      <td>54.3%</td>\n",
       "      <td>A4</td>\n",
       "      <td>0.0</td>\n",
       "      <td>36 months</td>\n",
       "      <td>Debt consolidation</td>\n",
       "      <td>305781.0</td>\n",
       "      <td>373572.0</td>\n",
       "      <td>19.0</td>\n",
       "      <td>68056.0</td>\n",
       "      <td>47194.0</td>\n",
       "      <td>38400.0</td>\n",
       "      <td>0.0</td>\n",
       "      <td>82117.0</td>\n",
       "      <td>38400.0</td>\n",
       "      <td>Not Verified</td>\n",
       "      <td>226xx</td>\n",
       "      <td>NaN</td>\n",
       "      <td>NaN</td>\n",
       "      <td>NaN</td>\n",
       "      <td>NaN</td>\n",
       "      <td>NaN</td>\n",
       "      <td>NaN</td>\n",
       "      <td>NaN</td>\n",
       "      <td>NaN</td>\n",
       "      <td>NaN</td>\n",
       "      <td>NaN</td>\n",
       "      <td>NaN</td>\n",
       "    </tr>\n",
       "    <tr>\n",
       "      <th>8</th>\n",
       "      <td>0.0</td>\n",
       "      <td>3.0</td>\n",
       "      <td>MD</td>\n",
       "      <td>41.0</td>\n",
       "      <td>70000.0</td>\n",
       "      <td>NaN</td>\n",
       "      <td>Individual</td>\n",
       "      <td>1835.0</td>\n",
       "      <td>18527.0</td>\n",
       "      <td>44.0</td>\n",
       "      <td>0.0</td>\n",
       "      <td>0.0</td>\n",
       "      <td>0.0</td>\n",
       "      <td>0.0</td>\n",
       "      <td>NaN</td>\n",
       "      <td>16.90</td>\n",
       "      <td>NaN</td>\n",
       "      <td>Jun-2001</td>\n",
       "      <td>10+ years</td>\n",
       "      <td>Facilities Coordinator</td>\n",
       "      <td>20000.0</td>\n",
       "      <td>20000.0</td>\n",
       "      <td>C</td>\n",
       "      <td>OWN</td>\n",
       "      <td>NaN</td>\n",
       "      <td>37.0</td>\n",
       "      <td>w</td>\n",
       "      <td>0.0</td>\n",
       "      <td>0.0</td>\n",
       "      <td>0.0</td>\n",
       "      <td>465.27</td>\n",
       "      <td>13.99%</td>\n",
       "      <td>Dec-2015</td>\n",
       "      <td>20000.0</td>\n",
       "      <td>Charged Off</td>\n",
       "      <td>4367.0</td>\n",
       "      <td>NaN</td>\n",
       "      <td>46.0</td>\n",
       "      <td>174.0</td>\n",
       "      <td>5.0</td>\n",
       "      <td>5.0</td>\n",
       "      <td>0.0</td>\n",
       "      <td>33.0</td>\n",
       "      <td>69.0</td>\n",
       "      <td>NaN</td>\n",
       "      <td>43.0</td>\n",
       "      <td>6.0</td>\n",
       "      <td>NaN</td>\n",
       "      <td>13.0</td>\n",
       "      <td>NaN</td>\n",
       "      <td>1.0</td>\n",
       "      <td>6.0</td>\n",
       "      <td>11.0</td>\n",
       "      <td>9.0</td>\n",
       "      <td>19.0</td>\n",
       "      <td>2.0</td>\n",
       "      <td>19.0</td>\n",
       "      <td>32.0</td>\n",
       "      <td>11.0</td>\n",
       "      <td>20.0</td>\n",
       "      <td>0.0</td>\n",
       "      <td>0.0</td>\n",
       "      <td>0.0</td>\n",
       "      <td>2.0</td>\n",
       "      <td>20.0</td>\n",
       "      <td>2.0</td>\n",
       "      <td>0.0</td>\n",
       "      <td>0.0</td>\n",
       "      <td>1.0</td>\n",
       "      <td>2.0</td>\n",
       "      <td>3.0</td>\n",
       "      <td>94.3</td>\n",
       "      <td>44.4</td>\n",
       "      <td>1.0</td>\n",
       "      <td>0.0</td>\n",
       "      <td>0.0</td>\n",
       "      <td>debt_consolidation</td>\n",
       "      <td>31200.0</td>\n",
       "      <td>42%</td>\n",
       "      <td>C4</td>\n",
       "      <td>0.0</td>\n",
       "      <td>60 months</td>\n",
       "      <td>Debt consolidation</td>\n",
       "      <td>34856.0</td>\n",
       "      <td>84200.0</td>\n",
       "      <td>35.0</td>\n",
       "      <td>34856.0</td>\n",
       "      <td>3656.0</td>\n",
       "      <td>33100.0</td>\n",
       "      <td>1.0</td>\n",
       "      <td>10000.0</td>\n",
       "      <td>74200.0</td>\n",
       "      <td>Source Verified</td>\n",
       "      <td>210xx</td>\n",
       "      <td>NaN</td>\n",
       "      <td>NaN</td>\n",
       "      <td>NaN</td>\n",
       "      <td>NaN</td>\n",
       "      <td>NaN</td>\n",
       "      <td>NaN</td>\n",
       "      <td>NaN</td>\n",
       "      <td>NaN</td>\n",
       "      <td>NaN</td>\n",
       "      <td>NaN</td>\n",
       "      <td>NaN</td>\n",
       "    </tr>\n",
       "    <tr>\n",
       "      <th>9</th>\n",
       "      <td>0.0</td>\n",
       "      <td>3.0</td>\n",
       "      <td>NJ</td>\n",
       "      <td>54.0</td>\n",
       "      <td>40000.0</td>\n",
       "      <td>NaN</td>\n",
       "      <td>Individual</td>\n",
       "      <td>2128.0</td>\n",
       "      <td>10671.0</td>\n",
       "      <td>49.7</td>\n",
       "      <td>0.0</td>\n",
       "      <td>0.0</td>\n",
       "      <td>3.0</td>\n",
       "      <td>0.0</td>\n",
       "      <td>NaN</td>\n",
       "      <td>31.95</td>\n",
       "      <td>NaN</td>\n",
       "      <td>May-2008</td>\n",
       "      <td>3 years</td>\n",
       "      <td>Salesman</td>\n",
       "      <td>12000.0</td>\n",
       "      <td>12000.0</td>\n",
       "      <td>B</td>\n",
       "      <td>RENT</td>\n",
       "      <td>NaN</td>\n",
       "      <td>64.0</td>\n",
       "      <td>w</td>\n",
       "      <td>2.0</td>\n",
       "      <td>4.0</td>\n",
       "      <td>0.0</td>\n",
       "      <td>391.62</td>\n",
       "      <td>10.78%</td>\n",
       "      <td>Dec-2015</td>\n",
       "      <td>12000.0</td>\n",
       "      <td>Fully Paid</td>\n",
       "      <td>3058.0</td>\n",
       "      <td>NaN</td>\n",
       "      <td>64.0</td>\n",
       "      <td>91.0</td>\n",
       "      <td>10.0</td>\n",
       "      <td>10.0</td>\n",
       "      <td>0.0</td>\n",
       "      <td>9.0</td>\n",
       "      <td>NaN</td>\n",
       "      <td>NaN</td>\n",
       "      <td>12.0</td>\n",
       "      <td>10.0</td>\n",
       "      <td>9.0</td>\n",
       "      <td>2.0</td>\n",
       "      <td>9.0</td>\n",
       "      <td>0.0</td>\n",
       "      <td>7.0</td>\n",
       "      <td>8.0</td>\n",
       "      <td>10.0</td>\n",
       "      <td>11.0</td>\n",
       "      <td>3.0</td>\n",
       "      <td>14.0</td>\n",
       "      <td>19.0</td>\n",
       "      <td>8.0</td>\n",
       "      <td>16.0</td>\n",
       "      <td>0.0</td>\n",
       "      <td>0.0</td>\n",
       "      <td>0.0</td>\n",
       "      <td>2.0</td>\n",
       "      <td>16.0</td>\n",
       "      <td>0.0</td>\n",
       "      <td>1.0</td>\n",
       "      <td>1.0</td>\n",
       "      <td>2.0</td>\n",
       "      <td>1.0</td>\n",
       "      <td>2.0</td>\n",
       "      <td>90.5</td>\n",
       "      <td>20.0</td>\n",
       "      <td>1.0</td>\n",
       "      <td>0.0</td>\n",
       "      <td>0.0</td>\n",
       "      <td>credit_card</td>\n",
       "      <td>11008.0</td>\n",
       "      <td>41.4%</td>\n",
       "      <td>B4</td>\n",
       "      <td>0.0</td>\n",
       "      <td>36 months</td>\n",
       "      <td>Credit card refinancing</td>\n",
       "      <td>31915.0</td>\n",
       "      <td>59420.0</td>\n",
       "      <td>22.0</td>\n",
       "      <td>31915.0</td>\n",
       "      <td>20907.0</td>\n",
       "      <td>21200.0</td>\n",
       "      <td>0.0</td>\n",
       "      <td>32820.0</td>\n",
       "      <td>26600.0</td>\n",
       "      <td>Not Verified</td>\n",
       "      <td>070xx</td>\n",
       "      <td>NaN</td>\n",
       "      <td>NaN</td>\n",
       "      <td>NaN</td>\n",
       "      <td>NaN</td>\n",
       "      <td>NaN</td>\n",
       "      <td>NaN</td>\n",
       "      <td>NaN</td>\n",
       "      <td>NaN</td>\n",
       "      <td>NaN</td>\n",
       "      <td>NaN</td>\n",
       "      <td>NaN</td>\n",
       "    </tr>\n",
       "  </tbody>\n",
       "</table>\n",
       "</div>"
      ],
      "text/plain": [
       "   acc_now_delinq  acc_open_past_24mths addr_state  all_util  annual_inc  \\\n",
       "0             0.0                   8.0         KS      42.0     65000.0   \n",
       "1             0.0                   1.0         VT      34.0    150000.0   \n",
       "2             0.0                   8.0         IN      50.0     75000.0   \n",
       "3             0.0                   7.0         OH      71.0    175000.0   \n",
       "4             0.0                   1.0         FL      91.0     44000.0   \n",
       "5             0.0                   1.0         OH      52.0    104000.0   \n",
       "6             0.0                   4.0         OH      30.0     38000.0   \n",
       "7             0.0                   2.0         VA      57.0    109000.0   \n",
       "8             0.0                   3.0         MD      41.0     70000.0   \n",
       "9             0.0                   3.0         NJ      54.0     40000.0   \n",
       "\n",
       "   annual_inc_joint application_type  avg_cur_bal  bc_open_to_buy  bc_util  \\\n",
       "0               NaN       Individual      10086.0         41055.0     17.1   \n",
       "1               NaN       Individual      61551.0         24661.0     44.0   \n",
       "2               NaN       Individual       7176.0         23476.0     59.9   \n",
       "3               NaN       Individual      51015.0         21569.0     50.3   \n",
       "4               NaN       Individual      19041.0             0.0    102.4   \n",
       "5               NaN       Individual       3068.0          8302.0     75.0   \n",
       "6               NaN       Individual       1150.0          6924.0     43.7   \n",
       "7               NaN       Individual      33976.0         17538.0     54.3   \n",
       "8               NaN       Individual       1835.0         18527.0     44.0   \n",
       "9               NaN       Individual       2128.0         10671.0     49.7   \n",
       "\n",
       "   chargeoff_within_12_mths  collections_12_mths_ex_med  delinq_2yrs  \\\n",
       "0                       0.0                         0.0          0.0   \n",
       "1                       0.0                         0.0          0.0   \n",
       "2                       0.0                         0.0          0.0   \n",
       "3                       0.0                         0.0          0.0   \n",
       "4                       0.0                         0.0          0.0   \n",
       "5                       0.0                         0.0          0.0   \n",
       "6                       0.0                         0.0          0.0   \n",
       "7                       0.0                         0.0          0.0   \n",
       "8                       0.0                         0.0          0.0   \n",
       "9                       0.0                         0.0          3.0   \n",
       "\n",
       "   delinq_amnt desc    dti  dti_joint earliest_cr_line emp_length  \\\n",
       "0          0.0  NaN  23.84        NaN         Nov-2003  10+ years   \n",
       "1          0.0  NaN   9.54        NaN         Feb-1996     1 year   \n",
       "2          0.0  NaN  31.88        NaN         Oct-2002  10+ years   \n",
       "3          0.0  NaN  18.50        NaN         Aug-1997    2 years   \n",
       "4          0.0  NaN  17.56        NaN         Jun-2006   < 1 year   \n",
       "5          0.0  NaN  14.01        NaN         Nov-2000    8 years   \n",
       "6          0.0  NaN  21.07        NaN         Jan-2011    5 years   \n",
       "7          0.0  NaN  26.02        NaN         Dec-2001  10+ years   \n",
       "8          0.0  NaN  16.90        NaN         Jun-2001  10+ years   \n",
       "9          0.0  NaN  31.95        NaN         May-2008    3 years   \n",
       "\n",
       "                   emp_title  funded_amnt  funded_amnt_inv grade  \\\n",
       "0                    Teacher      12000.0          12000.0     B   \n",
       "1                   Director      25000.0          25000.0     A   \n",
       "2                   Engineer      28000.0          28000.0     D   \n",
       "3             Vice-President      30000.0          30000.0     D   \n",
       "4                         RN      17600.0          17600.0     E   \n",
       "5  Aviation Safety Inspector      33600.0          33600.0     B   \n",
       "6            general manager      11550.0          11550.0     D   \n",
       "7              Sales Manager      25000.0          25000.0     A   \n",
       "8     Facilities Coordinator      20000.0          20000.0     C   \n",
       "9                   Salesman      12000.0          12000.0     B   \n",
       "\n",
       "  home_ownership   id  il_util initial_list_status  inq_fi  inq_last_12m  \\\n",
       "0       MORTGAGE  NaN     61.0                   w     0.0           0.0   \n",
       "1       MORTGAGE  NaN      6.0                   w     0.0           0.0   \n",
       "2       MORTGAGE  NaN     44.0                   w     1.0           0.0   \n",
       "3       MORTGAGE  NaN     84.0                   w     4.0           3.0   \n",
       "4           RENT  NaN     83.0                   w     0.0           0.0   \n",
       "5           RENT  NaN      NaN                   w     1.0           5.0   \n",
       "6           RENT  NaN     20.0                   w     4.0           2.0   \n",
       "7       MORTGAGE  NaN     58.0                   w     1.0           1.0   \n",
       "8            OWN  NaN     37.0                   w     0.0           0.0   \n",
       "9           RENT  NaN     64.0                   w     2.0           4.0   \n",
       "\n",
       "   inq_last_6mths  installment int_rate   issue_d  loan_amnt  loan_status  \\\n",
       "0             0.0       253.79    9.80%  Dec-2015    12000.0   Fully Paid   \n",
       "1             0.0       752.87    5.32%  Dec-2015    25000.0      Current   \n",
       "2             0.0       718.51   18.49%  Dec-2015    28000.0      Current   \n",
       "3             1.0      1051.31   15.77%  Dec-2015    30000.0   Fully Paid   \n",
       "4             0.0       465.22   19.89%  Dec-2015    17600.0      Current   \n",
       "5             2.0      1096.53   10.78%  Dec-2015    33600.0   Fully Paid   \n",
       "6             0.0       284.51   16.59%  Dec-2015    11550.0  Charged Off   \n",
       "7             1.0       777.55    7.49%  Dec-2015    25000.0   Fully Paid   \n",
       "8             0.0       465.27   13.99%  Dec-2015    20000.0  Charged Off   \n",
       "9             0.0       391.62   10.78%  Dec-2015    12000.0   Fully Paid   \n",
       "\n",
       "   max_bal_bc  member_id  mo_sin_old_il_acct  mo_sin_old_rev_tl_op  \\\n",
       "0      7909.0        NaN               127.0                 145.0   \n",
       "1     19339.0        NaN               166.0                 238.0   \n",
       "2      7213.0        NaN               143.0                 158.0   \n",
       "3     12141.0        NaN               118.0                 220.0   \n",
       "4      5998.0        NaN               112.0                 114.0   \n",
       "5     12992.0        NaN               156.0                 181.0   \n",
       "6      2701.0        NaN                39.0                  59.0   \n",
       "7      8937.0        NaN               142.0                 168.0   \n",
       "8      4367.0        NaN                46.0                 174.0   \n",
       "9      3058.0        NaN                64.0                  91.0   \n",
       "\n",
       "   mo_sin_rcnt_rev_tl_op  mo_sin_rcnt_tl  mort_acc  mths_since_last_delinq  \\\n",
       "0                    4.0             1.0       2.0                     NaN   \n",
       "1                    4.0             4.0       7.0                     NaN   \n",
       "2                    4.0             4.0       2.0                     NaN   \n",
       "3                   16.0             6.0       3.0                    61.0   \n",
       "4                   25.0            13.0       0.0                     NaN   \n",
       "5                    8.0             8.0       1.0                    29.0   \n",
       "6                    5.0             5.0       0.0                     NaN   \n",
       "7                   13.0            13.0       3.0                     NaN   \n",
       "8                    5.0             5.0       0.0                    33.0   \n",
       "9                   10.0            10.0       0.0                     9.0   \n",
       "\n",
       "   mths_since_last_major_derog  mths_since_last_record  mths_since_rcnt_il  \\\n",
       "0                          NaN                     NaN                 1.0   \n",
       "1                          NaN                     NaN                28.0   \n",
       "2                          NaN                     NaN                22.0   \n",
       "3                          NaN                     NaN                 6.0   \n",
       "4                          NaN                     NaN                13.0   \n",
       "5                         29.0                     NaN                50.0   \n",
       "6                          NaN                     NaN                13.0   \n",
       "7                          NaN                     NaN                13.0   \n",
       "8                         69.0                     NaN                43.0   \n",
       "9                          NaN                     NaN                12.0   \n",
       "\n",
       "   mths_since_recent_bc  mths_since_recent_bc_dlq  mths_since_recent_inq  \\\n",
       "0                   4.0                       NaN                   14.0   \n",
       "1                  73.0                       NaN                    NaN   \n",
       "2                  10.0                       NaN                   16.0   \n",
       "3                  16.0                       NaN                    0.0   \n",
       "4                  25.0                       NaN                    NaN   \n",
       "5                   8.0                       NaN                    1.0   \n",
       "6                   5.0                       NaN                    0.0   \n",
       "7                  13.0                       NaN                    0.0   \n",
       "8                   6.0                       NaN                   13.0   \n",
       "9                  10.0                       9.0                    2.0   \n",
       "\n",
       "   mths_since_recent_revol_delinq  num_accts_ever_120_pd  num_actv_bc_tl  \\\n",
       "0                             NaN                    0.0             2.0   \n",
       "1                             NaN                    0.0             1.0   \n",
       "2                             NaN                    0.0            14.0   \n",
       "3                            61.0                    0.0             2.0   \n",
       "4                             NaN                    0.0             3.0   \n",
       "5                             NaN                    1.0             5.0   \n",
       "6                             NaN                    0.0             3.0   \n",
       "7                             NaN                    0.0             3.0   \n",
       "8                             NaN                    1.0             6.0   \n",
       "9                             9.0                    0.0             7.0   \n",
       "\n",
       "   num_actv_rev_tl  num_bc_sats  num_bc_tl  num_il_tl  num_op_rev_tl  \\\n",
       "0              4.0          5.0       10.0       13.0           11.0   \n",
       "1              1.0          3.0        3.0        4.0            4.0   \n",
       "2             20.0         14.0       18.0        9.0           24.0   \n",
       "3              2.0          3.0        7.0        9.0            4.0   \n",
       "4              3.0          3.0        3.0       21.0            3.0   \n",
       "5              9.0          6.0       12.0        7.0           13.0   \n",
       "6              4.0          5.0        5.0        2.0            7.0   \n",
       "7              3.0          5.0        6.0        7.0            5.0   \n",
       "8             11.0          9.0       19.0        2.0           19.0   \n",
       "9              8.0         10.0       11.0        3.0           14.0   \n",
       "\n",
       "   num_rev_accts  num_rev_tl_bal_gt_0  num_sats  num_tl_120dpd_2m  \\\n",
       "0           22.0                  4.0      18.0               0.0   \n",
       "1            7.0                  1.0       7.0               0.0   \n",
       "2           34.0                 20.0      27.0               0.0   \n",
       "3           11.0                  2.0       9.0               0.0   \n",
       "4            4.0                  3.0       7.0               0.0   \n",
       "5           23.0                 10.0      14.0               0.0   \n",
       "6           10.0                  5.0       9.0               0.0   \n",
       "7            9.0                  3.0       9.0               0.0   \n",
       "8           32.0                 11.0      20.0               0.0   \n",
       "9           19.0                  8.0      16.0               0.0   \n",
       "\n",
       "   num_tl_30dpd  num_tl_90g_dpd_24m  num_tl_op_past_12m  open_acc  \\\n",
       "0           0.0                 0.0                 3.0      18.0   \n",
       "1           0.0                 0.0                 1.0       7.0   \n",
       "2           0.0                 0.0                 2.0      27.0   \n",
       "3           0.0                 0.0                 3.0       9.0   \n",
       "4           0.0                 0.0                 0.0       7.0   \n",
       "5           0.0                 0.0                 1.0      14.0   \n",
       "6           0.0                 0.0                 2.0       9.0   \n",
       "7           0.0                 0.0                 0.0       9.0   \n",
       "8           0.0                 0.0                 2.0      20.0   \n",
       "9           0.0                 0.0                 2.0      16.0   \n",
       "\n",
       "   open_acc_6m  open_il_12m  open_il_24m  open_act_il  open_rv_12m  \\\n",
       "0          2.0          2.0          3.0          6.0          1.0   \n",
       "1          1.0          0.0          0.0          2.0          1.0   \n",
       "2          1.0          0.0          2.0          2.0          2.0   \n",
       "3          2.0          2.0          4.0          4.0          0.0   \n",
       "4          0.0          0.0          1.0          4.0          0.0   \n",
       "5          0.0          0.0          0.0          1.0          1.0   \n",
       "6          1.0          0.0          1.0          2.0          2.0   \n",
       "7          0.0          0.0          1.0          3.0          0.0   \n",
       "8          2.0          0.0          0.0          1.0          2.0   \n",
       "9          0.0          1.0          1.0          2.0          1.0   \n",
       "\n",
       "   open_rv_24m  pct_tl_nvr_dlq  percent_bc_gt_75  policy_code  pub_rec  \\\n",
       "0          5.0           100.0               0.0          1.0      0.0   \n",
       "1          1.0           100.0               0.0          1.0      0.0   \n",
       "2          6.0           100.0              50.0          1.0      0.0   \n",
       "3          1.0            95.7              33.3          1.0      0.0   \n",
       "4          0.0           100.0             100.0          1.0      0.0   \n",
       "5          1.0            96.8              33.3          1.0      0.0   \n",
       "6          3.0           100.0              60.0          1.0      0.0   \n",
       "7          1.0           100.0              20.0          1.0      0.0   \n",
       "8          3.0            94.3              44.4          1.0      0.0   \n",
       "9          2.0            90.5              20.0          1.0      0.0   \n",
       "\n",
       "   pub_rec_bankruptcies             purpose  revol_bal revol_util sub_grade  \\\n",
       "0                   0.0  debt_consolidation     9786.0      13.4%        B3   \n",
       "1                   0.0         credit_card    19339.0      42.5%        A1   \n",
       "2                   0.0  debt_consolidation    43413.0      51.9%        D5   \n",
       "3                   0.0    home_improvement    21831.0      50.3%        D1   \n",
       "4                   0.0         credit_card    12900.0     102.4%        E3   \n",
       "5                   0.0  debt_consolidation    28475.0      51.8%        B4   \n",
       "6                   0.0         credit_card     7179.0      39.7%        D2   \n",
       "7                   0.0  debt_consolidation    20862.0      54.3%        A4   \n",
       "8                   0.0  debt_consolidation    31200.0        42%        C4   \n",
       "9                   0.0         credit_card    11008.0      41.4%        B4   \n",
       "\n",
       "   tax_liens        term                    title  tot_cur_bal  \\\n",
       "0        0.0   60 months       Debt consolidation     181540.0   \n",
       "1        0.0   36 months  Credit card refinancing     430856.0   \n",
       "2        0.0   60 months       Debt consolidation     193745.0   \n",
       "3        0.0   36 months         Home improvement     408118.0   \n",
       "4        0.0   60 months                      NaN     133285.0   \n",
       "5        0.0   36 months       Debt consolidation      42952.0   \n",
       "6        0.0   60 months  Credit card refinancing      10353.0   \n",
       "7        0.0   36 months       Debt consolidation     305781.0   \n",
       "8        0.0   60 months       Debt consolidation      34856.0   \n",
       "9        0.0   36 months  Credit card refinancing      31915.0   \n",
       "\n",
       "   tot_hi_cred_lim  total_acc  total_bal_ex_mort  total_bal_il  \\\n",
       "0         291626.0       37.0            74787.0       65001.0   \n",
       "1         512381.0       18.0            44786.0       25447.0   \n",
       "2         267312.0       46.0            57302.0       13889.0   \n",
       "3         447599.0       23.0           152571.0      130740.0   \n",
       "4         139633.0       25.0           133285.0      120385.0   \n",
       "5          92909.0       31.0            42952.0       14477.0   \n",
       "6          34105.0       12.0            10353.0        3174.0   \n",
       "7         373572.0       19.0            68056.0       47194.0   \n",
       "8          84200.0       35.0            34856.0        3656.0   \n",
       "9          59420.0       22.0            31915.0       20907.0   \n",
       "\n",
       "   total_bc_limit  total_cu_tl  total_il_high_credit_limit  total_rev_hi_lim  \\\n",
       "0         49500.0          0.0                    105910.0           73200.0   \n",
       "1         44000.0          7.0                     51081.0           45500.0   \n",
       "2         58500.0          0.0                     31758.0           83600.0   \n",
       "3         43400.0          3.0                    146568.0           43400.0   \n",
       "4         12600.0          1.0                    127033.0           12600.0   \n",
       "5         33200.0          0.0                     37909.0           55000.0   \n",
       "6         12300.0          1.0                     16005.0           18100.0   \n",
       "7         38400.0          0.0                     82117.0           38400.0   \n",
       "8         33100.0          1.0                     10000.0           74200.0   \n",
       "9         21200.0          0.0                     32820.0           26600.0   \n",
       "\n",
       "  verification_status zip_code  revol_bal_joint  sec_app_earliest_cr_line  \\\n",
       "0        Not Verified    660xx              NaN                       NaN   \n",
       "1        Not Verified    054xx              NaN                       NaN   \n",
       "2            Verified    471xx              NaN                       NaN   \n",
       "3        Not Verified    430xx              NaN                       NaN   \n",
       "4            Verified    322xx              NaN                       NaN   \n",
       "5     Source Verified    441xx              NaN                       NaN   \n",
       "6        Not Verified    436xx              NaN                       NaN   \n",
       "7        Not Verified    226xx              NaN                       NaN   \n",
       "8     Source Verified    210xx              NaN                       NaN   \n",
       "9        Not Verified    070xx              NaN                       NaN   \n",
       "\n",
       "   sec_app_inq_last_6mths  sec_app_mort_acc  sec_app_open_acc  \\\n",
       "0                     NaN               NaN               NaN   \n",
       "1                     NaN               NaN               NaN   \n",
       "2                     NaN               NaN               NaN   \n",
       "3                     NaN               NaN               NaN   \n",
       "4                     NaN               NaN               NaN   \n",
       "5                     NaN               NaN               NaN   \n",
       "6                     NaN               NaN               NaN   \n",
       "7                     NaN               NaN               NaN   \n",
       "8                     NaN               NaN               NaN   \n",
       "9                     NaN               NaN               NaN   \n",
       "\n",
       "   sec_app_revol_util  sec_app_open_act_il  sec_app_num_rev_accts  \\\n",
       "0                 NaN                  NaN                    NaN   \n",
       "1                 NaN                  NaN                    NaN   \n",
       "2                 NaN                  NaN                    NaN   \n",
       "3                 NaN                  NaN                    NaN   \n",
       "4                 NaN                  NaN                    NaN   \n",
       "5                 NaN                  NaN                    NaN   \n",
       "6                 NaN                  NaN                    NaN   \n",
       "7                 NaN                  NaN                    NaN   \n",
       "8                 NaN                  NaN                    NaN   \n",
       "9                 NaN                  NaN                    NaN   \n",
       "\n",
       "   sec_app_chargeoff_within_12_mths  sec_app_collections_12_mths_ex_med  \\\n",
       "0                               NaN                                 NaN   \n",
       "1                               NaN                                 NaN   \n",
       "2                               NaN                                 NaN   \n",
       "3                               NaN                                 NaN   \n",
       "4                               NaN                                 NaN   \n",
       "5                               NaN                                 NaN   \n",
       "6                               NaN                                 NaN   \n",
       "7                               NaN                                 NaN   \n",
       "8                               NaN                                 NaN   \n",
       "9                               NaN                                 NaN   \n",
       "\n",
       "   sec_app_mths_since_last_major_derog  \n",
       "0                                  NaN  \n",
       "1                                  NaN  \n",
       "2                                  NaN  \n",
       "3                                  NaN  \n",
       "4                                  NaN  \n",
       "5                                  NaN  \n",
       "6                                  NaN  \n",
       "7                                  NaN  \n",
       "8                                  NaN  \n",
       "9                                  NaN  "
      ]
     },
     "execution_count": 3,
     "metadata": {},
     "output_type": "execute_result"
    }
   ],
   "source": [
    "df.head(10)"
   ]
  },
  {
   "cell_type": "code",
   "execution_count": null,
   "metadata": {},
   "outputs": [],
   "source": []
  },
  {
   "cell_type": "code",
   "execution_count": null,
   "metadata": {},
   "outputs": [],
   "source": []
  },
  {
   "cell_type": "markdown",
   "metadata": {},
   "source": [
    "## Section A\n",
    "\n",
    "### What is the monthly total loan volume in dollars and what is the monthly average loan size?\n",
    "\n",
    "- `funded_amnt`: The total amount committed to that loan at that point in time.\n",
    "\n",
    "- `loan_amnt`: The listed amount of the loan applied for by the borrower. If at some point in time, the credit department reduces the loan amount, then it will be reflected in this value.\n"
   ]
  },
  {
   "cell_type": "code",
   "execution_count": 4,
   "metadata": {},
   "outputs": [
    {
     "data": {
      "text/plain": [
       "Oct-2015    48631\n",
       "Jul-2015    45962\n",
       "Dec-2015    44343\n",
       "Nov-2015    37530\n",
       "Aug-2015    35886\n",
       "Apr-2015    35427\n",
       "Jan-2015    35107\n",
       "May-2015    31913\n",
       "Sep-2015    28641\n",
       "Jun-2015    28485\n",
       "Mar-2015    25400\n",
       "Feb-2015    23770\n",
       "Name: issue_d, dtype: int64"
      ]
     },
     "execution_count": 4,
     "metadata": {},
     "output_type": "execute_result"
    }
   ],
   "source": [
    "df['issue_d'].value_counts()"
   ]
  },
  {
   "cell_type": "code",
   "execution_count": 5,
   "metadata": {},
   "outputs": [],
   "source": [
    "_months = {'Jan':'01', 'Feb':'02', 'Mar': '03', 'Apr': '04', 'May': '05', 'Jun':'06', 'Jul':'07', 'Aug':'08', 'Sep':'09', 'Oct':'10', 'Nov':'11', 'Dec':'12',}\n",
    "\n",
    "def parse_dates(date_str):\n",
    "    if isinstance(date_str, str):\n",
    "        month_desc, year = date_str.split('-')\n",
    "        month = _months[month_desc]\n",
    "        return month\n",
    "    else:\n",
    "        return np.nan"
   ]
  },
  {
   "cell_type": "code",
   "execution_count": 6,
   "metadata": {},
   "outputs": [],
   "source": [
    "df['issue_month'] = df['issue_d'].apply(parse_dates)"
   ]
  },
  {
   "cell_type": "code",
   "execution_count": 7,
   "metadata": {},
   "outputs": [],
   "source": [
    "monthly_loan_amnts = df.groupby(by = 'issue_month')[['loan_amnt', 'funded_amnt']].sum()"
   ]
  },
  {
   "cell_type": "code",
   "execution_count": 8,
   "metadata": {},
   "outputs": [
    {
     "data": {
      "text/html": [
       "<div>\n",
       "<style scoped>\n",
       "    .dataframe tbody tr th:only-of-type {\n",
       "        vertical-align: middle;\n",
       "    }\n",
       "\n",
       "    .dataframe tbody tr th {\n",
       "        vertical-align: top;\n",
       "    }\n",
       "\n",
       "    .dataframe thead th {\n",
       "        text-align: right;\n",
       "    }\n",
       "</style>\n",
       "<table border=\"1\" class=\"dataframe\">\n",
       "  <thead>\n",
       "    <tr style=\"text-align: right;\">\n",
       "      <th></th>\n",
       "      <th>loan_amnt</th>\n",
       "      <th>funded_amnt</th>\n",
       "    </tr>\n",
       "    <tr>\n",
       "      <th>issue_month</th>\n",
       "      <th></th>\n",
       "      <th></th>\n",
       "    </tr>\n",
       "  </thead>\n",
       "  <tbody>\n",
       "    <tr>\n",
       "      <th>01</th>\n",
       "      <td>533132575.0</td>\n",
       "      <td>533132575.0</td>\n",
       "    </tr>\n",
       "    <tr>\n",
       "      <th>02</th>\n",
       "      <td>366908525.0</td>\n",
       "      <td>366908525.0</td>\n",
       "    </tr>\n",
       "    <tr>\n",
       "      <th>03</th>\n",
       "      <td>390003275.0</td>\n",
       "      <td>390003275.0</td>\n",
       "    </tr>\n",
       "    <tr>\n",
       "      <th>04</th>\n",
       "      <td>539401075.0</td>\n",
       "      <td>539401075.0</td>\n",
       "    </tr>\n",
       "    <tr>\n",
       "      <th>05</th>\n",
       "      <td>483189475.0</td>\n",
       "      <td>483189475.0</td>\n",
       "    </tr>\n",
       "    <tr>\n",
       "      <th>06</th>\n",
       "      <td>429777175.0</td>\n",
       "      <td>429777175.0</td>\n",
       "    </tr>\n",
       "    <tr>\n",
       "      <th>07</th>\n",
       "      <td>696238600.0</td>\n",
       "      <td>696238600.0</td>\n",
       "    </tr>\n",
       "    <tr>\n",
       "      <th>08</th>\n",
       "      <td>555331400.0</td>\n",
       "      <td>555331400.0</td>\n",
       "    </tr>\n",
       "    <tr>\n",
       "      <th>09</th>\n",
       "      <td>450246800.0</td>\n",
       "      <td>450246800.0</td>\n",
       "    </tr>\n",
       "    <tr>\n",
       "      <th>10</th>\n",
       "      <td>738221400.0</td>\n",
       "      <td>738221400.0</td>\n",
       "    </tr>\n",
       "    <tr>\n",
       "      <th>11</th>\n",
       "      <td>567247325.0</td>\n",
       "      <td>567247325.0</td>\n",
       "    </tr>\n",
       "    <tr>\n",
       "      <th>12</th>\n",
       "      <td>667910550.0</td>\n",
       "      <td>667910550.0</td>\n",
       "    </tr>\n",
       "  </tbody>\n",
       "</table>\n",
       "</div>"
      ],
      "text/plain": [
       "               loan_amnt  funded_amnt\n",
       "issue_month                          \n",
       "01           533132575.0  533132575.0\n",
       "02           366908525.0  366908525.0\n",
       "03           390003275.0  390003275.0\n",
       "04           539401075.0  539401075.0\n",
       "05           483189475.0  483189475.0\n",
       "06           429777175.0  429777175.0\n",
       "07           696238600.0  696238600.0\n",
       "08           555331400.0  555331400.0\n",
       "09           450246800.0  450246800.0\n",
       "10           738221400.0  738221400.0\n",
       "11           567247325.0  567247325.0\n",
       "12           667910550.0  667910550.0"
      ]
     },
     "execution_count": 8,
     "metadata": {},
     "output_type": "execute_result"
    }
   ],
   "source": [
    "monthly_loan_amnts # loan amount applied = loan funded amount"
   ]
  },
  {
   "cell_type": "code",
   "execution_count": null,
   "metadata": {},
   "outputs": [],
   "source": []
  },
  {
   "cell_type": "code",
   "execution_count": 9,
   "metadata": {},
   "outputs": [
    {
     "data": {
      "text/plain": [
       "Text(0.5, 0, 'Month')"
      ]
     },
     "execution_count": 9,
     "metadata": {},
     "output_type": "execute_result"
    },
    {
     "data": {
      "image/png": "[encoded data removed]",
      "text/plain": [
       "<Figure size 504x360 with 1 Axes>"
      ]
     },
     "metadata": {
      "needs_background": "light"
     },
     "output_type": "display_data"
    }
   ],
   "source": [
    "plt.figure(figsize = (7,5))\n",
    "(monthly_loan_amnts['funded_amnt']/1e6).plot()\n",
    "plt.title('Monthly Total Loan Volume (2015)')\n",
    "plt.ylabel('$ Millions')\n",
    "plt.xlabel('Month')"
   ]
  },
  {
   "cell_type": "code",
   "execution_count": 10,
   "metadata": {},
   "outputs": [],
   "source": [
    "monthly_avg_loan_amnts = df.groupby(by = 'issue_month')['funded_amnt'].mean()"
   ]
  },
  {
   "cell_type": "code",
   "execution_count": 11,
   "metadata": {},
   "outputs": [
    {
     "data": {
      "text/plain": [
       "issue_month\n",
       "01    15185.933717\n",
       "02    15435.781447\n",
       "03    15354.459646\n",
       "04    15225.705676\n",
       "05    15140.835240\n",
       "06    15087.841847\n",
       "07    15148.135416\n",
       "08    15474.875996\n",
       "09    15720.358926\n",
       "10    15180.057988\n",
       "11    15114.503730\n",
       "12    15062.367228\n",
       "Name: funded_amnt, dtype: float64"
      ]
     },
     "execution_count": 11,
     "metadata": {},
     "output_type": "execute_result"
    }
   ],
   "source": [
    "monthly_avg_loan_amnts"
   ]
  },
  {
   "cell_type": "code",
   "execution_count": 12,
   "metadata": {},
   "outputs": [
    {
     "data": {
      "text/plain": [
       "Text(0.5, 0, 'Month')"
      ]
     },
     "execution_count": 12,
     "metadata": {},
     "output_type": "execute_result"
    },
    {
     "data": {
      "image/png": "[encoded data removed]",
      "text/plain": [
       "<Figure size 504x360 with 1 Axes>"
      ]
     },
     "metadata": {
      "needs_background": "light"
     },
     "output_type": "display_data"
    }
   ],
   "source": [
    "plt.figure(figsize = (7,5))\n",
    "(monthly_loan_amnts['funded_amnt']/1e6).plot()\n",
    "plt.title('Monthly Average Loan Volume (2015)')\n",
    "plt.ylabel('$ Millions')\n",
    "plt.xlabel('Month')"
   ]
  },
  {
   "cell_type": "code",
   "execution_count": null,
   "metadata": {},
   "outputs": [],
   "source": []
  },
  {
   "cell_type": "markdown",
   "metadata": {},
   "source": [
    "### What are the default rates by Loan Grade?\n",
    "\n",
    "- `grade`: LC assigned loan grade\n",
    "\n",
    "- `loan_status`: Current status of the loan ('Fully Paid',\n",
    " 'Current',\n",
    " 'Charged Off',\n",
    " 'Late (31-120 days)',\n",
    " 'In Grace Period',\n",
    " 'Late (16-30 days)',\n",
    " 'Default')\n",
    " \n",
    " "
   ]
  },
  {
   "cell_type": "code",
   "execution_count": null,
   "metadata": {},
   "outputs": [],
   "source": []
  },
  {
   "cell_type": "code",
   "execution_count": 13,
   "metadata": {},
   "outputs": [
    {
     "data": {
      "text/plain": [
       "Fully Paid            196814\n",
       "Current               151713\n",
       "Charged Off            63845\n",
       "Late (31-120 days)      4905\n",
       "In Grace Period         2757\n",
       "Late (16-30 days)       1052\n",
       "Default                    9\n",
       "Name: loan_status, dtype: int64"
      ]
     },
     "execution_count": 13,
     "metadata": {},
     "output_type": "execute_result"
    }
   ],
   "source": [
    "df['loan_status'].value_counts() # only 9 accounts are in default"
   ]
  },
  {
   "cell_type": "code",
   "execution_count": 14,
   "metadata": {},
   "outputs": [],
   "source": [
    "df['default_flag'] = (df['loan_status'] == 'Default') * 1"
   ]
  },
  {
   "cell_type": "code",
   "execution_count": 15,
   "metadata": {},
   "outputs": [],
   "source": [
    "default_by_grade = df.groupby(by = 'grade')['default_flag'].agg(['sum', 'mean']) # delinquency =  default"
   ]
  },
  {
   "cell_type": "code",
   "execution_count": 16,
   "metadata": {},
   "outputs": [
    {
     "data": {
      "text/html": [
       "<div>\n",
       "<style scoped>\n",
       "    .dataframe tbody tr th:only-of-type {\n",
       "        vertical-align: middle;\n",
       "    }\n",
       "\n",
       "    .dataframe tbody tr th {\n",
       "        vertical-align: top;\n",
       "    }\n",
       "\n",
       "    .dataframe thead th {\n",
       "        text-align: right;\n",
       "    }\n",
       "</style>\n",
       "<table border=\"1\" class=\"dataframe\">\n",
       "  <thead>\n",
       "    <tr style=\"text-align: right;\">\n",
       "      <th></th>\n",
       "      <th>sum</th>\n",
       "      <th>mean</th>\n",
       "    </tr>\n",
       "    <tr>\n",
       "      <th>grade</th>\n",
       "      <th></th>\n",
       "      <th></th>\n",
       "    </tr>\n",
       "  </thead>\n",
       "  <tbody>\n",
       "    <tr>\n",
       "      <th>A</th>\n",
       "      <td>1</td>\n",
       "      <td>0.000014</td>\n",
       "    </tr>\n",
       "    <tr>\n",
       "      <th>B</th>\n",
       "      <td>1</td>\n",
       "      <td>0.000009</td>\n",
       "    </tr>\n",
       "    <tr>\n",
       "      <th>C</th>\n",
       "      <td>4</td>\n",
       "      <td>0.000033</td>\n",
       "    </tr>\n",
       "    <tr>\n",
       "      <th>D</th>\n",
       "      <td>1</td>\n",
       "      <td>0.000016</td>\n",
       "    </tr>\n",
       "    <tr>\n",
       "      <th>E</th>\n",
       "      <td>2</td>\n",
       "      <td>0.000057</td>\n",
       "    </tr>\n",
       "    <tr>\n",
       "      <th>F</th>\n",
       "      <td>0</td>\n",
       "      <td>0.000000</td>\n",
       "    </tr>\n",
       "    <tr>\n",
       "      <th>G</th>\n",
       "      <td>0</td>\n",
       "      <td>0.000000</td>\n",
       "    </tr>\n",
       "  </tbody>\n",
       "</table>\n",
       "</div>"
      ],
      "text/plain": [
       "       sum      mean\n",
       "grade               \n",
       "A        1  0.000014\n",
       "B        1  0.000009\n",
       "C        4  0.000033\n",
       "D        1  0.000016\n",
       "E        2  0.000057\n",
       "F        0  0.000000\n",
       "G        0  0.000000"
      ]
     },
     "execution_count": 16,
     "metadata": {},
     "output_type": "execute_result"
    }
   ],
   "source": [
    "# default frequency and rate by grade\n",
    "default_by_grade"
   ]
  },
  {
   "cell_type": "code",
   "execution_count": null,
   "metadata": {},
   "outputs": [],
   "source": []
  },
  {
   "cell_type": "code",
   "execution_count": null,
   "metadata": {},
   "outputs": [],
   "source": []
  },
  {
   "cell_type": "markdown",
   "metadata": {},
   "source": [
    "### Is Lending Club charging an appropriate interest rate for the risk?\n",
    "\n",
    "- `term`: The number of payments on the loan. Values are in months and can be either 36 or 60\n",
    "\n",
    "- `installment`: The monthly payment owed by the borrower if the loan originates (includes interest rate)\n",
    "\n",
    "- `funded_amnt`: The total amount committed to that loan at that point in time\n",
    "\n",
    "`total_expected_repayment`: `term` $\\times$ `installment`"
   ]
  },
  {
   "cell_type": "code",
   "execution_count": 17,
   "metadata": {},
   "outputs": [],
   "source": [
    "df['term'] = df['term'].map({' 36 months': 36, ' 60 months':60}) # 3 years or 5 years"
   ]
  },
  {
   "cell_type": "code",
   "execution_count": 18,
   "metadata": {},
   "outputs": [],
   "source": [
    "total_payments = df['installment'] * df['term']\n",
    "total_payments = total_payments.to_frame('total_payments')"
   ]
  },
  {
   "cell_type": "code",
   "execution_count": 19,
   "metadata": {},
   "outputs": [],
   "source": [
    "#pd.concat([total_payments, df['funded_amnt']], 1).head()"
   ]
  },
  {
   "cell_type": "code",
   "execution_count": 20,
   "metadata": {},
   "outputs": [],
   "source": [
    "df['total_expected_repayment'] = total_payments['total_payments'] * (1 - df['default_flag'])"
   ]
  },
  {
   "cell_type": "code",
   "execution_count": 21,
   "metadata": {},
   "outputs": [
    {
     "data": {
      "text/plain": [
       "8309102650.439997"
      ]
     },
     "execution_count": 21,
     "metadata": {},
     "output_type": "execute_result"
    }
   ],
   "source": [
    "df['total_expected_repayment'].sum()"
   ]
  },
  {
   "cell_type": "code",
   "execution_count": 22,
   "metadata": {},
   "outputs": [
    {
     "data": {
      "text/plain": [
       "6417608175.0"
      ]
     },
     "execution_count": 22,
     "metadata": {},
     "output_type": "execute_result"
    }
   ],
   "source": [
    "df['funded_amnt'].sum()"
   ]
  },
  {
   "cell_type": "code",
   "execution_count": 23,
   "metadata": {},
   "outputs": [
    {
     "data": {
      "text/plain": [
       "1891494475.4399993"
      ]
     },
     "execution_count": 23,
     "metadata": {},
     "output_type": "execute_result"
    }
   ],
   "source": [
    "(df['total_expected_repayment'] - df['funded_amnt']).sum()"
   ]
  },
  {
   "cell_type": "code",
   "execution_count": 24,
   "metadata": {},
   "outputs": [
    {
     "data": {
      "text/html": [
       "<div>\n",
       "<style scoped>\n",
       "    .dataframe tbody tr th:only-of-type {\n",
       "        vertical-align: middle;\n",
       "    }\n",
       "\n",
       "    .dataframe tbody tr th {\n",
       "        vertical-align: top;\n",
       "    }\n",
       "\n",
       "    .dataframe thead th {\n",
       "        text-align: right;\n",
       "    }\n",
       "</style>\n",
       "<table border=\"1\" class=\"dataframe\">\n",
       "  <thead>\n",
       "    <tr style=\"text-align: right;\">\n",
       "      <th></th>\n",
       "      <th>funded_amnt</th>\n",
       "      <th>total_expected_repayment</th>\n",
       "    </tr>\n",
       "    <tr>\n",
       "      <th>grade</th>\n",
       "      <th></th>\n",
       "      <th></th>\n",
       "    </tr>\n",
       "  </thead>\n",
       "  <tbody>\n",
       "    <tr>\n",
       "      <th>A</th>\n",
       "      <td>1077.445350</td>\n",
       "      <td>1202.276853</td>\n",
       "    </tr>\n",
       "    <tr>\n",
       "      <th>B</th>\n",
       "      <td>1676.097950</td>\n",
       "      <td>2008.793775</td>\n",
       "    </tr>\n",
       "    <tr>\n",
       "      <th>C</th>\n",
       "      <td>1777.831825</td>\n",
       "      <td>2301.170212</td>\n",
       "    </tr>\n",
       "    <tr>\n",
       "      <th>D</th>\n",
       "      <td>999.154850</td>\n",
       "      <td>1400.730030</td>\n",
       "    </tr>\n",
       "    <tr>\n",
       "      <th>E</th>\n",
       "      <td>645.584850</td>\n",
       "      <td>982.640539</td>\n",
       "    </tr>\n",
       "    <tr>\n",
       "      <th>F</th>\n",
       "      <td>197.226225</td>\n",
       "      <td>333.546033</td>\n",
       "    </tr>\n",
       "    <tr>\n",
       "      <th>G</th>\n",
       "      <td>44.267125</td>\n",
       "      <td>79.945209</td>\n",
       "    </tr>\n",
       "  </tbody>\n",
       "</table>\n",
       "</div>"
      ],
      "text/plain": [
       "       funded_amnt  total_expected_repayment\n",
       "grade                                       \n",
       "A      1077.445350               1202.276853\n",
       "B      1676.097950               2008.793775\n",
       "C      1777.831825               2301.170212\n",
       "D       999.154850               1400.730030\n",
       "E       645.584850                982.640539\n",
       "F       197.226225                333.546033\n",
       "G        44.267125                 79.945209"
      ]
     },
     "execution_count": 24,
     "metadata": {},
     "output_type": "execute_result"
    }
   ],
   "source": [
    "df.groupby(by = 'grade')[['funded_amnt', 'total_expected_repayment']].sum() / 1e6 # divide by $1 Million"
   ]
  },
  {
   "cell_type": "markdown",
   "metadata": {},
   "source": [
    "The total loan funded amount is `6,417,608,175` which is less than the expected repayment amount `8,309,102,650` so the Loan Lending Club is charging sufficient interest overall. Loans broken down by grade still present a profit regardlesss of risk of default."
   ]
  },
  {
   "cell_type": "code",
   "execution_count": null,
   "metadata": {},
   "outputs": [],
   "source": []
  },
  {
   "cell_type": "code",
   "execution_count": null,
   "metadata": {},
   "outputs": [],
   "source": []
  },
  {
   "cell_type": "code",
   "execution_count": null,
   "metadata": {},
   "outputs": [],
   "source": []
  },
  {
   "cell_type": "code",
   "execution_count": null,
   "metadata": {},
   "outputs": [],
   "source": []
  },
  {
   "cell_type": "markdown",
   "metadata": {},
   "source": [
    "## Section B - Modeling\n",
    "\n",
    "### QA Data Set\n",
    "\n",
    "Some basic issues with this data set include:\n",
    "\n",
    "- missing values; some columns seem to be intended to be all blank or mostly blank. \n",
    "\n",
    "- missing values; However, other records seem to be missing at random (MAR)\n",
    "\n",
    "- dates are in a human readable format, but not very \"machine friendly\". Parsing the dates takes some extra steps. Dates are in a non-standard format like YYYY-MM-DD\n",
    "\n",
    "- some numerical values like interest rate have non-numeric characters in the values (i.e. 5.1% instead of 5.1). This again is a non-standard practice.\n",
    "\n",
    "- zip code field is populated with zip codes ending in \"xx\"; however, this was probably done to anonymize the data\n",
    "\n",
    "- employment title has duplicate characters resulting from human entered values. For example, \"Teacher\" and \"teacher\" are the same value however because not every character is upper (or lower) case, the data set assumes two different values.\n",
    "\n",
    "- emp_length is a field recording number of years employed, however, this information is stored as categorical data instead of numerical values. The data is also censored after 10+ years.\n",
    "\n",
    "\n"
   ]
  },
  {
   "cell_type": "code",
   "execution_count": 25,
   "metadata": {},
   "outputs": [
    {
     "name": "stdout",
     "output_type": "stream",
     "text": [
      "addr_state\n",
      "CA    58067\n",
      "TX    34699\n",
      "NY    33844\n",
      "FL    29298\n",
      "IL    16864\n",
      "NJ    15195\n",
      "PA    14969\n",
      "OH    14394\n",
      "GA    14111\n",
      "NC    12038\n",
      "VA    12033\n",
      "MI    11436\n",
      "MD    10057\n",
      "AZ     9700\n",
      "MA     9521\n",
      "CO     9068\n",
      "WA     8917\n",
      "MN     7799\n",
      "IN     7264\n",
      "TN     6903\n",
      "MO     6699\n",
      "CT     6327\n",
      "NV     5924\n",
      "WI     5663\n",
      "AL     5347\n",
      "LA     5098\n",
      "SC     5056\n",
      "OR     4944\n",
      "KY     4112\n",
      "OK     3968\n",
      "KS     3736\n",
      "AR     3152\n",
      "UT     2836\n",
      "MS     2593\n",
      "NM     2351\n",
      "HI     2083\n",
      "NH     2062\n",
      "WV     1974\n",
      "RI     1843\n",
      "DE     1239\n",
      "MT     1162\n",
      "NE     1162\n",
      "DC     1006\n",
      "AK      954\n",
      "WY      900\n",
      "VT      892\n",
      "SD      835\n",
      "ME      521\n",
      "ND      479\n",
      "Name: addr_state, dtype: int64\n",
      "application_type\n",
      "Individual    420584\n",
      "Joint App        511\n",
      "Name: application_type, dtype: int64\n",
      "desc\n",
      "                                                                                                                                                                                                                                                                                                                                                                                                                                                                                                                                                                                                                                                                                                                                                                                                                                                                                                                                                                                                                                                                                                                                                                                                                   12\n",
      "I am in my senior year of college in obtaining a bachelors degree in criminal justice.  I do not qualify for financial aid and have used all stafford loans available.  My tuition is approx. $1200 a month and I have 10 courses left which adds up to over $10,000.  I need some assistance to cover my tuition until my graduation date which is August of 2009.                                                                                                                                                                                                                                                                                                                                                                                                                                                                                                                                                                                                                                                                                                                                                                                                                                                 1\n",
      "I am looking for a loan to pay my credit cards off as well as making some very much needed auto repairs                                                                                                                                                                                                                                                                                                                                                                                                                                                                                                                                                                                                                                                                                                                                                                                                                                                                                                                                                                                                                                                                                                             1\n",
      "Please and need to get $10000 to finish my debts I need to pay rent, creadit cards and my car I'm work in the construcction area and because of the economi work is too slow that why I need the money I sure I will pay u every penny back thank you!                                                                                                                                                                                                                                                                                                                                                                                                                                                                                                                                                                                                                                                                                                                                                                                                                                                                                                                                                              1\n",
      "Lenders,  I have the ability to pay off my current debt but, would like the ability to be able to put some extra money off to the side and build my personal savings account.  The lower interest rate of roughly 7% would enable me to do that.  I'm willing to share my credit report to anyone that is willing to help out. Please consider my application.  Thank you,                                                                                                                                                                                                                                                                                                                                                                                                                                                                                                                                                                                                                                                                                                                                                                                                                                          1\n",
      "I have excellent credit and I need to reduce my credit card debt at a lower interest rate.                                                                                                                                                                                                                                                                                                                                                                                                                                                                                                                                                                                                                                                                                                                                                                                                                                                                                                                                                                                                                                                                                                                          1\n",
      "I want to cut down on my credit  card debt now (while they are not wildly out of control) by consolidating them all in one so I can make regular payments to one single source rather than keeping on track of several credit cards payment.                                                                                                                                                                                                                                                                                                                                                                                                                                                                                                                                                                                                                                                                                                                                                                                                                                                                                                                                                                        1\n",
      "I would like to refinance my credit cards at a lower rate.  The high interest is making it difficult to keep to my monthly budget.                                                                                                                                                                                                                                                                                                                                                                                                                                                                                                                                                                                                                                                                                                                                                                                                                                                                                                                                                                                                                                                                                  1\n",
      "I would like to consolidate debt from several credit cards.                                                                                                                                                                                                                                                                                                                                                                                                                                                                                                                                                                                                                                                                                                                                                                                                                                                                                                                                                                                                                                                                                                                                                         1\n",
      "I would like to consolidate my loan in one small monthly payment w/a low interest rate. All my credit has a very high interest rate. Please advise and let me know if i will be qualified.                                                                                                                                                                                                                                                                                                                                                                                                                                                                                                                                                                                                                                                                                                                                                                                                                                                                                                                                                                                                                          1\n",
      "This loan will be used to consolidate some of the debt I have and to be add some inventory for my online stores. I recently went back to Ebay and I have an Amazon.com store. I would like to add some more inventory. Recently I paid off a $1750 debt from a payment fraud that I was a victim of. So now to get back in the swing of things and get some inventory for my online store.                                                                                                                                                                                                                                                                                                                                                                                                                                                                                                                                                                                                                                                                                                                                                                                                                          1\n",
      "Already put 19500 into my home addition. The frame and everythingis paid for cash. Want to finish the electrical, plumbing, sheetrock. Have equity in my house but I was always taught never to take an additional mortgage out.  Looking for a good rate and good terms.                                                                                                                                                                                                                                                                                                                                                                                                                                                                                                                                                                                                                                                                                                                                                                                                                                                                                                                                           1\n",
      "i recently proposed to my girlfriend of almost 8 yrs now and everything was going well untill our pug (ody) the middle of my three dogs started limping around and stumbling all the time. well come to find out he has a tumor on his spine. not very good news for us as our dogs are pretty much our children. so the reason for my loan request is the money i spent on the engagement ring was most of my savings and then i had to take out paydayloans loans for the mylogram bill, wich is similar to an MRI. $2,700 along with meds, visits etc. well as we all know paydayloans are very high intrest and a pain to try and payback and still stay on top of regular monthly bills. they are taking a toll on me mentally and physically, falling behind on all bills except mortgage. i would use the loan to pay off all payday loans and to catch back up on bills. all was going so well and it now has taken a turn for the worst. if there is any one that can help it would be greatly appreciated, and i would pay the loan back as soon as possible. thank you very much for considering me.                                                                                                     1\n",
      "Looking to pay off my credit card debt before the interest rate jumps next month.  It's currently at 0% (it was a balance transfer offer) but is scheduled to go to 18.99% next month when the promotional rate expires.                                                                                                                                                                                                                                                                                                                                                                                                                                                                                                                                                                                                                                                                                                                                                                                                                                                                                                                                                                                            1\n",
      "Just want to get these credit cards paid and then toss them away!                                                                                                                                                                                                                                                                                                                                                                                                                                                                                                                                                                                                                                                                                                                                                                                                                                                                                                                                                                                                                                                                                                                                                   1\n",
      "Would like to pay off Lowes card with a better interest rate than 19.99%, the current interest rate on the card.                                                                                                                                                                                                                                                                                                                                                                                                                                                                                                                                                                                                                                                                                                                                                                                                                                                                                                                                                                                                                                                                                                    1\n",
      "I want to consolidate two credit cards with high interest rates.                                                                                                                                                                                                                                                                                                                                                                                                                                                                                                                                                                                                                                                                                                                                                                                                                                                                                                                                                                                                                                                                                                                                                    1\n",
      "I need a lower interest loan to pay off my citifinancial loan.                                                                                                                                                                                                                                                                                                                                                                                                                                                                                                                                                                                                                                                                                                                                                                                                                                                                                                                                                                                                                                                                                                                                                      1\n",
      "Well, I am a 44 year old with a family of 5 children (oldest just enlisted in the service) and  good stable job, earning about $85,000 per year. I have two large accounts with a major lender, and a good payment history, yet their interest rate is 18% and 13% respectively on my accounts and i am currently paying a little over $400 a month in interest ALONE. Credit score at or near 700. I am looking for some reprieve from these high interest rates and look forward to becoming debt free ASAP. I asked the lending institiution and their solution would send my credit score in the tank. I appreciate all your time effort and energy on my behalf.                                                                                                                                                                                                                                                                                                                                                                                                                                                                                                                                               1\n",
      "I was unemployed for 6 months and relied on a part time job and ran up my credit cards - I would like to condolidate to 1 payment.  I currently work 2 jobs - a full time job and a part time job. I am extremely reliable and want to get my feet back on the ground                                                                                                                                                                                                                                                                                                                                                                                                                                                                                                                                                                                                                                                                                                                                                                                                                                                                                                                                               1\n",
      "I am a great candidate for this loan because I have not missed a beat on any thing in five years. Thanks                                                                                                                                                                                                                                                                                                                                                                                                                                                                                                                                                                                                                                                                                                                                                                                                                                                                                                                                                                                                                                                                                                            1\n",
      "I need funds to cover the uncovered prescription drugs that I need for my wife.  We have medical insurance but the infamous Medicare doughnut hole has bitten us.  For those unaccostumed to the doughnut hole it is when you hit a certain limit, say 2500.00 then until you pay our approx. 45oo.oo, you incurr all the costs of the medicene.                                                                                                                                                                                                                                                                                                                                                                                                                                                                                                                                                                                                                                                                                                                                                                                                                                                                    1\n",
      " I paid off my first Prosper loan, but had an emergency and took out a second Prosper loan, but at a very high interest rate - and I would like the opportunity to get the interest rate lowered.  This loan would be used to pay off the second Prosper Loan.                                                                                                                                                                                                                                                                                                                                                                                                                                                                                                                                                                                                                                                                                                                                                                                                                                                                                                                                                      1\n",
      " this loan would be used to replace non deductable interest credit card dept with a collatorlized interest deductable loan.                                                                                                                                                                                                                                                                                                                                                                                                                                                                                                                                                                                                                                                                                                                                                                                                                                                                                                                                                                                                                                                                                         1\n",
      "Would like to pay off 4 small credit cards that have interest rates and other charges that keep escalating.                                                                                                                                                                                                                                                                                                                                                                                                                                                                                                                                                                                                                                                                                                                                                                                                                                                                                                                                                                                                                                                                                                         1\n",
      "I am building a new garage on a property that i ocupy as my primary residence.  I just purchased the propery in June 2007 and my bank will only offer a peronnal loan a a ridculus high interst rate that would not be cost effective for me.  I have exceptional credit.                                                                                                                                                                                                                                                                                                                                                                                                                                                                                                                                                                                                                                                                                                                                                                                                                                                                                                                                           1\n",
      "Thank you for taking the time to consider me and my request as your next investment.  I graduated from college two years ago and moved across the country to start work.  Since then, I have been working to pay down the credit card debt that I accumulated while I was a student and as I was establishing a new life.  My salary has allowed me to make my monthly minimum payments on time.  However, I was recently informed by my bank that my interest rates would be rising precipitously.  This has forced me to reevaluate my finances, and I have realized that consolidating my debt with a lower interest rate is imperative if I want to avoid losing many hundreds of dollars a year.  I have a stable income from my job in public service, and I am a responsible borrower who has never been delinquent.  Your support in helping me to consolidate this high-interest debt would be greatly appreciated.  Thank you again for your time.                                                                                                                                                                                                                                                        1\n",
      "I need a loan for my small, opened in September, restaurant. The main purpose is to help the cash flow in my business.                                                                                                                                                                                                                                                                                                                                                                                                                                                                                                                                                                                                                                                                                                                                                                                                                                                                                                                                                                                                                                                                                              1\n",
      "I have been in business for a year and want to eliminate some personal debt and use the remainder of the loan to take care of business expenses. Also lessening the number of trade lines I have open puts me in a better position to pursue business loans since it will  be based on my personal credit. A detailed report can be created to show where exactly the funds will go and this can be provided at any time during the course of the loan.                                                                                                                                                                                                                                                                                                                                                                                                                                                                                                                                                                                                                                                                                                                                                             1\n",
      "loan needed to send daughter to medical school. I would ike to use a portion for her tuition and consoidate my debts to make it affordabe. This has been her dream since she was 10                                                                                                                                                                                                                                                                                                                                                                                                                                                                                                                                                                                                                                                                                                                                                                                                                                                                                                                                                                                                                                 1\n",
      "We knew that using our credit cards to finance an adoption would squeeze us, but then medical and other unexpected expenses made the situation almost impossible. We are a stable family in a stable community. We just need to break a cycle of debt that is getting worse.                                                                                                                                                                                                                                                                                                                                                                                                                                                                                                                                                                                                                                                                                                                                                                                                                                                                                                                                        1\n",
      "This loan will be used to consolidate high interest credit card debt.    Over the course of this past year my wife and I had our first child, purchase a home and received a large bonus from work.  With the new home and the child on the way I chose to spread my tax withholdings on the bonus to all checks received in 2008 this caused my monthly income to fall by $1500.  This in combination with an unexpected additional down payment for our home of $17,000 with only a weeks notice we were force to dip into our Credit Cards for the past several months.    Starting January 1, 2009 I will be able to readjust my tax withholding and start to pay off the Credit Card debt we have racked up.  This loan will help lower the interest rate during the repayment period and give one central place for payment.  My wife and I have not missed a payment or been late for the past 5 years.  My fico score is 670 mainly due to several low limit credit cards near their max.  I manage the international devision of a software company and my wife is a kindergarten teacher, combined we make 140K a year.    Thank you for your consideration and I look forward to working with you.       1\n",
      "I had a bad year two years ago, with some late and missed payments. I'm doing much better now, but I've got fees and some higher interest bits that have added up on top of the other stuff, and it's a little crazy. I'm hoping doing it thru Lending Club will make it easier - and cheaper - to pay off.                                                                                                                                                                                                                                                                                                                                                                                                                                                                                                                                                                                                                                                                                                                                                                                                                                                                                                         1\n",
      "In need a little money to get me for a while after a tough semester in both graduate (clinical psychology) and law schools.  Any help would be much appreciated.                                                                                                                                                                                                                                                                                                                                                                                                                                                                                                                                                                                                                                                                                                                                                                                                                                                                                                                                                                                                                                                    1\n",
      "Name: desc, dtype: int64\n",
      "earliest_cr_line\n",
      "Aug-2002    3235\n",
      "Aug-2001    3204\n",
      "Sep-2003    3032\n",
      "Sep-2002    2966\n",
      "Aug-2000    2932\n",
      "Sep-2004    2875\n",
      "Aug-2003    2858\n",
      "Oct-2001    2825\n",
      "Oct-2002    2668\n",
      "Sep-2000    2662\n",
      "Aug-2004    2650\n",
      "Oct-2000    2648\n",
      "Sep-2001    2617\n",
      "Oct-2003    2602\n",
      "Nov-2000    2555\n",
      "Nov-1999    2555\n",
      "Jul-2001    2532\n",
      "Jul-2003    2510\n",
      "Aug-1999    2472\n",
      "Sep-1999    2458\n",
      "Jul-2002    2428\n",
      "Nov-2001    2426\n",
      "Oct-1999    2418\n",
      "Mar-2001    2416\n",
      "Oct-2004    2376\n",
      "May-2003    2365\n",
      "Sep-1998    2359\n",
      "Dec-2001    2320\n",
      "Sep-2005    2287\n",
      "May-2002    2272\n",
      "            ... \n",
      "Jul-1951       1\n",
      "Aug-1955       1\n",
      "Jun-1958       1\n",
      "Jan-1953       1\n",
      "Nov-1958       1\n",
      "Sep-1956       1\n",
      "Dec-1958       1\n",
      "Jul-1958       1\n",
      "Jul-1959       1\n",
      "Jun-1962       1\n",
      "Mar-1961       1\n",
      "Nov-1961       1\n",
      "May-1961       1\n",
      "Dec-1959       1\n",
      "Jun-1959       1\n",
      "Nov-1956       1\n",
      "Jan-1955       1\n",
      "Mar-1955       1\n",
      "Nov-1957       1\n",
      "Jan-1951       1\n",
      "May-1960       1\n",
      "Apr-1960       1\n",
      "May-1963       1\n",
      "Sep-1960       1\n",
      "Aug-1962       1\n",
      "Aug-1951       1\n",
      "Dec-1956       1\n",
      "Jan-1944       1\n",
      "May-1957       1\n",
      "Apr-1955       1\n",
      "Name: earliest_cr_line, Length: 668, dtype: int64\n",
      "emp_length\n"
     ]
    },
    {
     "name": "stdout",
     "output_type": "stream",
     "text": [
      "10+ years    141521\n",
      "2 years       37497\n",
      "< 1 year      34340\n",
      "3 years       33430\n",
      "1 year        27473\n",
      "5 years       24930\n",
      "4 years       24506\n",
      "8 years       21560\n",
      "7 years       18414\n",
      "6 years       16838\n",
      "9 years       16769\n",
      "Name: emp_length, dtype: int64\n",
      "emp_title\n",
      "Teacher                                     8070\n",
      "Manager                                     6802\n",
      "Owner                                       3849\n",
      "Registered Nurse                            3209\n",
      "RN                                          3151\n",
      "Supervisor                                  3016\n",
      "Sales                                       2588\n",
      "Project Manager                             2364\n",
      "Driver                                      2273\n",
      "Office Manager                              2115\n",
      "owner                                       1993\n",
      "Director                                    1969\n",
      "General Manager                             1915\n",
      "manager                                     1826\n",
      "teacher                                     1743\n",
      "President                                   1683\n",
      "Engineer                                    1622\n",
      "driver                                      1462\n",
      "Vice President                              1408\n",
      "Attorney                                    1323\n",
      "Operations Manager                          1242\n",
      "Accountant                                  1231\n",
      "Administrative Assistant                    1179\n",
      "Sales Manager                               1145\n",
      "Account Manager                             1055\n",
      "sales                                       1015\n",
      "Police Officer                               972\n",
      "Executive Assistant                          941\n",
      "Analyst                                      941\n",
      "supervisor                                   914\n",
      "                                            ... \n",
      "Director of It Development                     1\n",
      "material technician                            1\n",
      "SR DATA ENTRY CLERK                            1\n",
      "Sr. Robotic Research Engineer                  1\n",
      "school security agent                          1\n",
      "Member of Technical staff III (Software)       1\n",
      "dsa                                            1\n",
      "Communications Technitian                      1\n",
      "Mortgage Quality Assurance Analyst             1\n",
      "Engineering Asst.                              1\n",
      "Tech. Supt. Manager and Trainer                1\n",
      "Religious Affairs NCO                          1\n",
      "Truck  driver                                  1\n",
      "Sr. Financial Auditor                          1\n",
      "Manager, Office Operations & Meetings          1\n",
      "BSA Clerk                                      1\n",
      "Food Service Supervisor 2                      1\n",
      "LPN-Charge Nurse                               1\n",
      "Manager/Partner                                1\n",
      "orr operator                                   1\n",
      "Material Logistics Specialist                  1\n",
      "Head Surfboard Shaper                          1\n",
      "manager, email marketing                       1\n",
      "Marine Corps Officer                           1\n",
      "Health Services Rep III                        1\n",
      "refractor                                      1\n",
      "Audiologist/Owner                              1\n",
      "Civilian Criminal Investigator                 1\n",
      "Expense Analyst                                1\n",
      "Certified medical Coder CPC                    1\n",
      "Name: emp_title, Length: 120812, dtype: int64\n",
      "grade\n",
      "C    120567\n",
      "B    117606\n",
      "A     73336\n",
      "D     62654\n",
      "E     34948\n",
      "F      9817\n",
      "G      2167\n",
      "Name: grade, dtype: int64\n",
      "home_ownership\n",
      "MORTGAGE    207683\n",
      "RENT        167644\n",
      "OWN          45766\n",
      "ANY              2\n",
      "Name: home_ownership, dtype: int64\n",
      "id\n",
      "Total amount funded in policy code 1: 6417608175    1\n",
      "Total amount funded in policy code 2: 1944088810    1\n",
      "Name: id, dtype: int64\n",
      "initial_list_status\n",
      "w    267252\n",
      "f    153843\n",
      "Name: initial_list_status, dtype: int64\n",
      "int_rate\n",
      "  7.89%    20305\n",
      "  9.17%    20056\n",
      " 10.99%    19779\n",
      "  9.99%    19613\n",
      " 12.29%    18545\n",
      " 12.69%    18009\n",
      "  8.18%    17811\n",
      " 13.99%    17774\n",
      " 13.33%    17568\n",
      " 11.53%    16181\n",
      " 14.65%    13486\n",
      " 15.61%    12128\n",
      " 16.55%    10945\n",
      " 16.99%    10074\n",
      " 17.57%     9881\n",
      " 17.86%     9684\n",
      "  5.32%     9652\n",
      "  7.26%     9437\n",
      "  6.24%     7468\n",
      "  6.89%     7011\n",
      " 18.25%     6750\n",
      " 11.99%     5331\n",
      " 13.67%     4507\n",
      " 19.99%     4463\n",
      " 12.59%     4354\n",
      " 13.18%     4345\n",
      " 18.55%     4110\n",
      "  6.92%     4070\n",
      " 19.19%     3557\n",
      " 20.99%     3416\n",
      "           ...  \n",
      "  8.49%      393\n",
      " 13.44%      380\n",
      " 27.31%      347\n",
      " 14.85%      340\n",
      "  7.91%      325\n",
      " 25.80%      309\n",
      " 25.99%      272\n",
      " 15.77%      258\n",
      " 27.88%      222\n",
      " 25.83%      221\n",
      " 16.59%      208\n",
      " 17.27%      175\n",
      " 25.89%      171\n",
      " 17.97%      168\n",
      " 28.49%      139\n",
      "  6.00%      132\n",
      " 19.48%      118\n",
      " 28.99%      112\n",
      " 19.89%       97\n",
      " 26.06%       92\n",
      " 21.48%       80\n",
      " 20.50%       66\n",
      " 22.45%       48\n",
      " 23.13%       47\n",
      " 24.24%       34\n",
      " 25.09%       14\n",
      " 26.99%       10\n",
      " 27.49%        7\n",
      " 27.99%        5\n",
      " 16.90%        1\n",
      "Name: int_rate, Length: 111, dtype: int64\n",
      "issue_d\n",
      "Oct-2015    48631\n",
      "Jul-2015    45962\n",
      "Dec-2015    44343\n",
      "Nov-2015    37530\n",
      "Aug-2015    35886\n",
      "Apr-2015    35427\n",
      "Jan-2015    35107\n",
      "May-2015    31913\n",
      "Sep-2015    28641\n",
      "Jun-2015    28485\n",
      "Mar-2015    25400\n",
      "Feb-2015    23770\n",
      "Name: issue_d, dtype: int64\n",
      "loan_status\n",
      "Fully Paid            196814\n",
      "Current               151713\n",
      "Charged Off            63845\n",
      "Late (31-120 days)      4905\n",
      "In Grace Period         2757\n",
      "Late (16-30 days)       1052\n",
      "Default                    9\n",
      "Name: loan_status, dtype: int64\n",
      "purpose\n",
      "debt_consolidation    250020\n",
      "credit_card           102025\n",
      "home_improvement       25293\n",
      "other                  19204\n",
      "major_purchase          7449\n",
      "medical                 3938\n",
      "car                     3466\n",
      "small_business          3364\n",
      "moving                  2420\n",
      "vacation                2249\n",
      "house                   1438\n",
      "renewable_energy         224\n",
      "wedding                    4\n",
      "educational                1\n",
      "Name: purpose, dtype: int64\n",
      "revol_util\n",
      "0%        1256\n",
      "52%        932\n",
      "61%        925\n",
      "59%        920\n",
      "53%        916\n",
      "58%        916\n",
      "55%        912\n",
      "62%        909\n",
      "57%        900\n",
      "44%        887\n",
      "47%        887\n",
      "50%        885\n",
      "54%        883\n",
      "63%        880\n",
      "48%        877\n",
      "60%        875\n",
      "51%        874\n",
      "64%        863\n",
      "56%        862\n",
      "66%        862\n",
      "68%        851\n",
      "49%        849\n",
      "65%        843\n",
      "70%        833\n",
      "46%        828\n",
      "39%        828\n",
      "43%        810\n",
      "42%        808\n",
      "45%        807\n",
      "69%        798\n",
      "          ... \n",
      "121.7%       1\n",
      "123.3%       1\n",
      "126%         1\n",
      "116.4%       1\n",
      "124.5%       1\n",
      "112.8%       1\n",
      "116.1%       1\n",
      "132.7%       1\n",
      "155.3%       1\n",
      "110.5%       1\n",
      "121.2%       1\n",
      "115.3%       1\n",
      "127.3%       1\n",
      "117.5%       1\n",
      "130.8%       1\n",
      "113.3%       1\n",
      "113.4%       1\n",
      "114.4%       1\n",
      "134.1%       1\n",
      "117.1%       1\n",
      "115.6%       1\n",
      "119.1%       1\n",
      "111.6%       1\n",
      "115.1%       1\n",
      "130.5%       1\n",
      "115.4%       1\n",
      "117.6%       1\n",
      "136.1%       1\n",
      "115%         1\n",
      "152.5%       1\n",
      "Name: revol_util, Length: 1211, dtype: int64\n",
      "sub_grade\n",
      "C1    26434\n",
      "C2    25496\n",
      "B4    25121\n",
      "C3    24844\n",
      "C4    24752\n",
      "B3    24637\n",
      "B5    23581\n",
      "A5    23059\n",
      "B2    22171\n",
      "B1    22096\n",
      "C5    19041\n",
      "D1    16977\n",
      "A4    15486\n",
      "D2    12757\n",
      "A1    12373\n",
      "D3    11638\n",
      "A2    11529\n",
      "D4    11459\n",
      "A3    10889\n",
      "D5     9823\n",
      "E1     9235\n",
      "E2     8335\n",
      "E3     7158\n",
      "E4     5732\n",
      "E5     4488\n",
      "F1     3278\n",
      "F2     2391\n",
      "F3     1725\n",
      "F4     1342\n",
      "F5     1081\n",
      "G1      762\n",
      "G2      575\n",
      "G3      398\n",
      "G4      241\n",
      "G5      191\n",
      "Name: sub_grade, dtype: int64\n",
      "title\n",
      "Debt consolidation                         249926\n",
      "Credit card refinancing                    102056\n",
      "Home improvement                            25264\n",
      "Other                                       19179\n",
      "Major purchase                               7434\n",
      "Medical expenses                             3926\n",
      "Car financing                                3475\n",
      "Business                                     3357\n",
      "Moving and relocation                        2422\n",
      "Vacation                                     2246\n",
      "Home buying                                  1440\n",
      "Green loan                                    223\n",
      "New Baby and New House (CC Consolidate)         1\n",
      "Student Loan                                    1\n",
      "new kitchen for momma!                          1\n",
      "Credit Card/Auto Repair                         1\n",
      "Simple Loan Until Contract Is Completed         1\n",
      "SAVE                                            1\n",
      "Pay off Lowes Card                              1\n",
      "new day                                         1\n",
      "DebtC                                           1\n",
      "considerate                                     1\n",
      "Paying off higher interest cards & auto         1\n",
      "odymeds                                         1\n",
      "Learning and training                           1\n",
      "Trying to come back to reality!                 1\n",
      "Prescription Drug and Medical Costs             1\n",
      "Name: title, dtype: int64\n",
      "verification_status\n",
      "Source Verified    179565\n",
      "Verified           123016\n",
      "Not Verified       118514\n",
      "Name: verification_status, dtype: int64\n",
      "zip_code\n",
      "945xx    4466\n",
      "750xx    4404\n",
      "112xx    4170\n",
      "300xx    4006\n",
      "606xx    3945\n",
      "331xx    3433\n",
      "070xx    3364\n",
      "770xx    3351\n",
      "100xx    3218\n",
      "900xx    3218\n",
      "891xx    3103\n",
      "330xx    3029\n",
      "117xx    2898\n",
      "917xx    2805\n",
      "104xx    2771\n",
      "852xx    2513\n",
      "921xx    2509\n",
      "926xx    2414\n",
      "481xx    2332\n",
      "913xx    2301\n",
      "925xx    2267\n",
      "334xx    2246\n",
      "601xx    2229\n",
      "600xx    2194\n",
      "604xx    2165\n",
      "113xx    2129\n",
      "853xx    2069\n",
      "802xx    2046\n",
      "080xx    2038\n",
      "773xx    2037\n",
      "         ... \n",
      "509xx       1\n",
      "849xx       1\n",
      "502xx       1\n",
      "520xx       1\n",
      "702xx       1\n",
      "399xx       1\n",
      "821xx       1\n",
      "892xx       1\n",
      "269xx       1\n",
      "817xx       1\n",
      "837xx       1\n",
      "649xx       1\n",
      "709xx       1\n",
      "510xx       1\n",
      "507xx       1\n",
      "929xx       1\n",
      "694xx       1\n",
      "969xx       1\n",
      "942xx       1\n",
      "205xx       1\n",
      "503xx       1\n",
      "348xx       1\n",
      "522xx       1\n",
      "742xx       1\n",
      "862xx       1\n",
      "819xx       1\n",
      "203xx       1\n",
      "854xx       1\n",
      "343xx       1\n",
      "568xx       1\n",
      "Name: zip_code, Length: 914, dtype: int64\n",
      "issue_month\n"
     ]
    },
    {
     "name": "stdout",
     "output_type": "stream",
     "text": [
      "10    48631\n",
      "07    45962\n",
      "12    44343\n",
      "11    37530\n",
      "08    35886\n",
      "04    35427\n",
      "01    35107\n",
      "05    31913\n",
      "09    28641\n",
      "06    28485\n",
      "03    25400\n",
      "02    23770\n",
      "Name: issue_month, dtype: int64\n"
     ]
    }
   ],
   "source": [
    "for c, s in df.items():\n",
    "    if s.dtype == 'O':\n",
    "        print(c)\n",
    "        print(s.value_counts())"
   ]
  },
  {
   "cell_type": "code",
   "execution_count": null,
   "metadata": {},
   "outputs": [],
   "source": []
  },
  {
   "cell_type": "code",
   "execution_count": 26,
   "metadata": {},
   "outputs": [
    {
     "data": {
      "text/plain": [
       "acc_now_delinq                0.000005\n",
       "acc_open_past_24mths          0.000005\n",
       "addr_state                    0.000005\n",
       "annual_inc                    0.000005\n",
       "application_type              0.000005\n",
       "avg_cur_bal                   0.000005\n",
       "bc_open_to_buy                0.009416\n",
       "bc_util                       0.010043\n",
       "chargeoff_within_12_mths      0.000005\n",
       "collections_12_mths_ex_med    0.000005\n",
       "delinq_2yrs                   0.000005\n",
       "delinq_amnt                   0.000005\n",
       "dti                           0.000009\n",
       "earliest_cr_line              0.000005\n",
       "emp_length                    0.056564\n",
       "emp_title                     0.056700\n",
       "funded_amnt                   0.000005\n",
       "funded_amnt_inv               0.000005\n",
       "grade                         0.000005\n",
       "home_ownership                0.000005\n",
       "initial_list_status           0.000005\n",
       "inq_last_6mths                0.000005\n",
       "installment                   0.000005\n",
       "int_rate                      0.000005\n",
       "issue_d                       0.000005\n",
       "loan_amnt                     0.000005\n",
       "loan_status                   0.000005\n",
       "mo_sin_old_il_acct            0.029105\n",
       "mo_sin_old_rev_tl_op          0.000005\n",
       "mo_sin_rcnt_rev_tl_op         0.000005\n",
       "                                ...   \n",
       "num_sats                      0.000005\n",
       "num_tl_120dpd_2m              0.045671\n",
       "num_tl_30dpd                  0.000005\n",
       "num_tl_90g_dpd_24m            0.000005\n",
       "num_tl_op_past_12m            0.000005\n",
       "open_acc                      0.000005\n",
       "pct_tl_nvr_dlq                0.000005\n",
       "percent_bc_gt_75              0.010071\n",
       "policy_code                   0.000005\n",
       "pub_rec                       0.000005\n",
       "pub_rec_bankruptcies          0.000005\n",
       "purpose                       0.000005\n",
       "revol_bal                     0.000005\n",
       "revol_util                    0.000389\n",
       "sub_grade                     0.000005\n",
       "tax_liens                     0.000005\n",
       "term                          0.000005\n",
       "title                         0.000318\n",
       "tot_cur_bal                   0.000005\n",
       "tot_hi_cred_lim               0.000005\n",
       "total_acc                     0.000005\n",
       "total_bal_ex_mort             0.000005\n",
       "total_bc_limit                0.000005\n",
       "total_il_high_credit_limit    0.000005\n",
       "total_rev_hi_lim              0.000005\n",
       "verification_status           0.000005\n",
       "zip_code                      0.000005\n",
       "issue_month                   0.000005\n",
       "default_flag                  0.000000\n",
       "total_expected_repayment      0.000005\n",
       "Length: 75, dtype: float64"
      ]
     },
     "execution_count": 26,
     "metadata": {},
     "output_type": "execute_result"
    }
   ],
   "source": [
    "df.isnull().mean()[df.isnull().mean() < 0.7]"
   ]
  },
  {
   "cell_type": "code",
   "execution_count": 27,
   "metadata": {},
   "outputs": [],
   "source": [
    "#df.isnull().sum()[df.isnull().mean() < 7]"
   ]
  },
  {
   "cell_type": "code",
   "execution_count": null,
   "metadata": {},
   "outputs": [],
   "source": []
  },
  {
   "cell_type": "code",
   "execution_count": 28,
   "metadata": {},
   "outputs": [
    {
     "data": {
      "text/plain": [
       "all_util                               0.949247\n",
       "annual_inc_joint                       0.998787\n",
       "desc                                   0.999893\n",
       "dti_joint                              0.998791\n",
       "id                                     0.999995\n",
       "il_util                                0.955789\n",
       "inq_fi                                 0.949247\n",
       "inq_last_12m                           0.949247\n",
       "max_bal_bc                             0.949247\n",
       "member_id                              1.000000\n",
       "mths_since_last_major_derog            0.708549\n",
       "mths_since_last_record                 0.823283\n",
       "mths_since_rcnt_il                     0.950581\n",
       "mths_since_recent_bc_dlq               0.742102\n",
       "open_acc_6m                            0.949247\n",
       "open_il_12m                            0.949247\n",
       "open_il_24m                            0.949247\n",
       "open_act_il                            0.949247\n",
       "open_rv_12m                            0.949247\n",
       "open_rv_24m                            0.949247\n",
       "total_bal_il                           0.949247\n",
       "total_cu_tl                            0.949247\n",
       "revol_bal_joint                        1.000000\n",
       "sec_app_earliest_cr_line               1.000000\n",
       "sec_app_inq_last_6mths                 1.000000\n",
       "sec_app_mort_acc                       1.000000\n",
       "sec_app_open_acc                       1.000000\n",
       "sec_app_revol_util                     1.000000\n",
       "sec_app_open_act_il                    1.000000\n",
       "sec_app_num_rev_accts                  1.000000\n",
       "sec_app_chargeoff_within_12_mths       1.000000\n",
       "sec_app_collections_12_mths_ex_med     1.000000\n",
       "sec_app_mths_since_last_major_derog    1.000000\n",
       "dtype: float64"
      ]
     },
     "execution_count": 28,
     "metadata": {},
     "output_type": "execute_result"
    }
   ],
   "source": [
    "# the following columns seem to be mostly missing if not all missing\n",
    "df.isnull().mean()[df.isnull().mean() > 0.7]"
   ]
  },
  {
   "cell_type": "code",
   "execution_count": null,
   "metadata": {},
   "outputs": [],
   "source": []
  },
  {
   "cell_type": "code",
   "execution_count": 29,
   "metadata": {},
   "outputs": [],
   "source": [
    "#df['emp_length'].value_counts()"
   ]
  },
  {
   "cell_type": "code",
   "execution_count": 30,
   "metadata": {},
   "outputs": [],
   "source": [
    "#df['emp_title'].value_counts()"
   ]
  },
  {
   "cell_type": "code",
   "execution_count": null,
   "metadata": {},
   "outputs": [],
   "source": []
  },
  {
   "cell_type": "markdown",
   "metadata": {},
   "source": [
    "### Are there any glaringly erroneous data values?"
   ]
  },
  {
   "cell_type": "code",
   "execution_count": null,
   "metadata": {},
   "outputs": [],
   "source": []
  },
  {
   "cell_type": "code",
   "execution_count": null,
   "metadata": {},
   "outputs": [],
   "source": []
  },
  {
   "cell_type": "code",
   "execution_count": 31,
   "metadata": {},
   "outputs": [
    {
     "data": {
      "text/plain": [
       "count    421095.000000\n",
       "mean      15240.285862\n",
       "std        8571.325901\n",
       "min        1000.000000\n",
       "25%        8500.000000\n",
       "50%       14000.000000\n",
       "75%       20000.000000\n",
       "max       35000.000000\n",
       "Name: funded_amnt, dtype: float64"
      ]
     },
     "execution_count": 31,
     "metadata": {},
     "output_type": "execute_result"
    }
   ],
   "source": [
    "df['funded_amnt'].describe()"
   ]
  },
  {
   "cell_type": "code",
   "execution_count": 32,
   "metadata": {},
   "outputs": [],
   "source": [
    "def interst2float(int_rate):\n",
    "    if isinstance(int_rate, str):\n",
    "        int_rate = float(int_rate.replace('%', ''))\n",
    "    return int_rate"
   ]
  },
  {
   "cell_type": "code",
   "execution_count": 33,
   "metadata": {},
   "outputs": [],
   "source": [
    "df['int_rate'] = df['int_rate'].apply(interst2float)"
   ]
  },
  {
   "cell_type": "code",
   "execution_count": 34,
   "metadata": {},
   "outputs": [],
   "source": [
    "def length_earliest_crline(date_str):\n",
    "    if isinstance(date_str, str):\n",
    "        year = date_str.split('-')[1]\n",
    "        return 2015- int(year)\n",
    "    else:\n",
    "        return np.nan"
   ]
  },
  {
   "cell_type": "code",
   "execution_count": 35,
   "metadata": {},
   "outputs": [],
   "source": [
    "#df['earliest_cr_line'].apply(length_earliest_crline)\n",
    "df['length_earliest_cr_line'] = df['earliest_cr_line'].apply(length_earliest_crline)"
   ]
  },
  {
   "cell_type": "code",
   "execution_count": null,
   "metadata": {},
   "outputs": [],
   "source": []
  },
  {
   "cell_type": "code",
   "execution_count": 36,
   "metadata": {},
   "outputs": [
    {
     "data": {
      "text/plain": [
       "Index(['Fully Paid', 'Current', 'Charged Off', 'Late (31-120 days)',\n",
       "       'In Grace Period', 'Late (16-30 days)', 'Default'],\n",
       "      dtype='object')"
      ]
     },
     "execution_count": 36,
     "metadata": {},
     "output_type": "execute_result"
    }
   ],
   "source": [
    "df['loan_status'].value_counts().index"
   ]
  },
  {
   "cell_type": "markdown",
   "metadata": {},
   "source": [
    "### Using any format and any modeling technique that you prefer, please create a model to predict default within the Lending Club dataset. Show any work that you would deem important in evaluating this process.\n",
    "\n",
    "- There are 196,814 records with a `loan_status` = `Fully Paid`\n",
    "\n",
    "- There are 9 records with a `loan_status` = `Default`\n",
    "\n",
    "- All other `loan_status` will be ignored. Current and delinquent loans may possibly become default, therefore a good benchmark would be to pair `Fully Paid` vs `Default`.\n",
    "\n",
    "- The data set imbalance is still severe even whislt dropping data points; this will hinder model performance\n"
   ]
  },
  {
   "cell_type": "code",
   "execution_count": 37,
   "metadata": {},
   "outputs": [],
   "source": [
    "from sklearn.linear_model import SGDClassifier\n",
    "from sklearn.ensemble import AdaBoostClassifier\n",
    "from sklearn.svm import LinearSVC, SVC\n",
    "from sklearn.neural_network import MLPClassifier\n",
    "from sklearn.model_selection import train_test_split\n",
    "from sklearn.metrics import confusion_matrix, roc_curve, auc\n",
    "from sklearn.utils.multiclass import unique_labels\n",
    "import patsy\n",
    "from tqdm import tqdm\n",
    "from tools import plot_confusion_matrix"
   ]
  },
  {
   "cell_type": "code",
   "execution_count": 38,
   "metadata": {},
   "outputs": [],
   "source": [
    "def fully_paid_or_default(status):\n",
    "    return status in ['Default', 'Fully Paid']"
   ]
  },
  {
   "cell_type": "code",
   "execution_count": 39,
   "metadata": {},
   "outputs": [],
   "source": [
    "ind = df['loan_status'].apply(fully_paid_or_default)"
   ]
  },
  {
   "cell_type": "code",
   "execution_count": 40,
   "metadata": {},
   "outputs": [],
   "source": [
    "df = df.loc[ind].reset_index(drop=True)"
   ]
  },
  {
   "cell_type": "code",
   "execution_count": 41,
   "metadata": {},
   "outputs": [
    {
     "data": {
      "text/plain": [
       "(196823, 109)"
      ]
     },
     "execution_count": 41,
     "metadata": {},
     "output_type": "execute_result"
    }
   ],
   "source": [
    "df.shape"
   ]
  },
  {
   "cell_type": "code",
   "execution_count": 42,
   "metadata": {},
   "outputs": [],
   "source": [
    "with open(\"new_features.csv\") as myfile:\n",
    "    cols = list()\n",
    "    for line in myfile:\n",
    "        cols.append(line.strip())"
   ]
  },
  {
   "cell_type": "code",
   "execution_count": 43,
   "metadata": {},
   "outputs": [],
   "source": [
    "cols.remove('column')"
   ]
  },
  {
   "cell_type": "code",
   "execution_count": 44,
   "metadata": {},
   "outputs": [
    {
     "name": "stdout",
     "output_type": "stream",
     "text": [
      "annual_inc : float64\n",
      "bc_util : float64\n",
      "dti : float64\n",
      "grade : object\n",
      "home_ownership : object\n",
      "initial_list_status : object\n",
      "installment : float64\n",
      "int_rate : float64\n",
      "loan_amnt : float64\n",
      "num_tl_op_past_12m : float64\n",
      "open_acc : float64\n",
      "pct_tl_nvr_dlq : float64\n",
      "percent_bc_gt_75 : float64\n",
      "title : object\n",
      "total_acc : float64\n",
      "total_bc_limit : float64\n",
      "verification_status : object\n"
     ]
    }
   ],
   "source": [
    "#cols\n",
    "for c in cols:\n",
    "    print(c, \":\", df[c].dtype)"
   ]
  },
  {
   "cell_type": "code",
   "execution_count": 45,
   "metadata": {},
   "outputs": [
    {
     "name": "stdout",
     "output_type": "stream",
     "text": [
      "grade 7\n",
      "home_ownership 3\n",
      "initial_list_status 2\n",
      "title 20\n",
      "verification_status 3\n"
     ]
    }
   ],
   "source": [
    "for c in cols:\n",
    "    if df[c].dtype == 'O':\n",
    "        print(c, df[c].value_counts().shape[0])"
   ]
  },
  {
   "cell_type": "code",
   "execution_count": null,
   "metadata": {},
   "outputs": [],
   "source": []
  },
  {
   "cell_type": "code",
   "execution_count": null,
   "metadata": {},
   "outputs": [],
   "source": []
  },
  {
   "cell_type": "code",
   "execution_count": null,
   "metadata": {},
   "outputs": [],
   "source": []
  },
  {
   "cell_type": "code",
   "execution_count": 46,
   "metadata": {},
   "outputs": [],
   "source": [
    "model_str = \"default_flag ~ \" + \" + \".join(cols)"
   ]
  },
  {
   "cell_type": "code",
   "execution_count": 47,
   "metadata": {},
   "outputs": [
    {
     "data": {
      "text/plain": [
       "'default_flag ~ annual_inc + bc_util + dti + grade + home_ownership + initial_list_status + installment + int_rate + loan_amnt + num_tl_op_past_12m + open_acc + pct_tl_nvr_dlq + percent_bc_gt_75 + title + total_acc + total_bc_limit + verification_status'"
      ]
     },
     "execution_count": 47,
     "metadata": {},
     "output_type": "execute_result"
    }
   ],
   "source": [
    "model_str"
   ]
  },
  {
   "cell_type": "code",
   "execution_count": 48,
   "metadata": {},
   "outputs": [
    {
     "data": {
      "text/plain": [
       "9"
      ]
     },
     "execution_count": 48,
     "metadata": {},
     "output_type": "execute_result"
    }
   ],
   "source": [
    "df['default_flag'].sum()"
   ]
  },
  {
   "cell_type": "code",
   "execution_count": null,
   "metadata": {},
   "outputs": [],
   "source": []
  },
  {
   "cell_type": "code",
   "execution_count": 49,
   "metadata": {},
   "outputs": [],
   "source": [
    "#ind = df[cols].isnull().sum(axis=1) < 1 # choose columns with no missing data"
   ]
  },
  {
   "cell_type": "code",
   "execution_count": null,
   "metadata": {},
   "outputs": [],
   "source": []
  },
  {
   "cell_type": "code",
   "execution_count": null,
   "metadata": {},
   "outputs": [],
   "source": []
  },
  {
   "cell_type": "code",
   "execution_count": 50,
   "metadata": {},
   "outputs": [
    {
     "data": {
      "text/plain": [
       "Fully Paid    196814\n",
       "Default            9\n",
       "Name: loan_status, dtype: int64"
      ]
     },
     "execution_count": 50,
     "metadata": {},
     "output_type": "execute_result"
    }
   ],
   "source": [
    "df['loan_status'].value_counts()"
   ]
  },
  {
   "cell_type": "code",
   "execution_count": 51,
   "metadata": {},
   "outputs": [],
   "source": [
    "Y, X = patsy.dmatrices(formula_like=model_str, data = df, return_type='dataframe')"
   ]
  },
  {
   "cell_type": "code",
   "execution_count": 52,
   "metadata": {},
   "outputs": [
    {
     "data": {
      "text/plain": [
       "(194554, 1)"
      ]
     },
     "execution_count": 52,
     "metadata": {},
     "output_type": "execute_result"
    }
   ],
   "source": [
    "Y.shape"
   ]
  },
  {
   "cell_type": "code",
   "execution_count": 53,
   "metadata": {},
   "outputs": [
    {
     "data": {
      "text/plain": [
       "(194554, 43)"
      ]
     },
     "execution_count": 53,
     "metadata": {},
     "output_type": "execute_result"
    }
   ],
   "source": [
    "X.shape"
   ]
  },
  {
   "cell_type": "code",
   "execution_count": null,
   "metadata": {},
   "outputs": [],
   "source": []
  },
  {
   "cell_type": "code",
   "execution_count": 54,
   "metadata": {},
   "outputs": [],
   "source": [
    "train_x, test_x, train_y, test_y = train_test_split(X, Y, stratify=Y)"
   ]
  },
  {
   "cell_type": "code",
   "execution_count": 55,
   "metadata": {},
   "outputs": [
    {
     "data": {
      "text/plain": [
       "(145915, 43)"
      ]
     },
     "execution_count": 55,
     "metadata": {},
     "output_type": "execute_result"
    }
   ],
   "source": [
    "train_x.shape"
   ]
  },
  {
   "cell_type": "code",
   "execution_count": 56,
   "metadata": {},
   "outputs": [
    {
     "data": {
      "text/plain": [
       "default_flag    7.0\n",
       "dtype: float64"
      ]
     },
     "execution_count": 56,
     "metadata": {},
     "output_type": "execute_result"
    }
   ],
   "source": [
    "train_y.sum()"
   ]
  },
  {
   "cell_type": "code",
   "execution_count": null,
   "metadata": {},
   "outputs": [],
   "source": [
    "test_y.sum()"
   ]
  },
  {
   "cell_type": "code",
   "execution_count": null,
   "metadata": {},
   "outputs": [],
   "source": []
  },
  {
   "cell_type": "code",
   "execution_count": 61,
   "metadata": {},
   "outputs": [],
   "source": [
    "ada_model = AdaBoostClassifier(n_estimators=1400)"
   ]
  },
  {
   "cell_type": "code",
   "execution_count": 62,
   "metadata": {},
   "outputs": [
    {
     "data": {
      "text/plain": [
       "AdaBoostClassifier(algorithm='SAMME.R', base_estimator=None,\n",
       "          learning_rate=1.0, n_estimators=1400, random_state=None)"
      ]
     },
     "execution_count": 62,
     "metadata": {},
     "output_type": "execute_result"
    }
   ],
   "source": [
    "ada_model.fit(train_x, train_y['default_flag'])"
   ]
  },
  {
   "cell_type": "code",
   "execution_count": 63,
   "metadata": {},
   "outputs": [],
   "source": [
    "ada_preds = ada_model.predict(test_x)"
   ]
  },
  {
   "cell_type": "code",
   "execution_count": 64,
   "metadata": {},
   "outputs": [
    {
     "name": "stdout",
     "output_type": "stream",
     "text": [
      "Confusion matrix, without normalization\n",
      "[[48637     0]\n",
      " [    2     0]]\n"
     ]
    },
    {
     "data": {
      "text/plain": [
       "<matplotlib.axes._subplots.AxesSubplot at 0x7fce979d0080>"
      ]
     },
     "execution_count": 64,
     "metadata": {},
     "output_type": "execute_result"
    },
    {
     "data": {
      "image/png": "[encoded data removed]",
      "text/plain": [
       "<Figure size 432x288 with 2 Axes>"
      ]
     },
     "metadata": {
      "needs_background": "light"
     },
     "output_type": "display_data"
    }
   ],
   "source": [
    "plot_confusion_matrix(test_y.astype(int), ada_preds.astype(int), classes=np.array([0,1]))"
   ]
  },
  {
   "cell_type": "code",
   "execution_count": 66,
   "metadata": {},
   "outputs": [],
   "source": [
    "y_score = ada_model.predict_proba(test_x)"
   ]
  },
  {
   "cell_type": "code",
   "execution_count": null,
   "metadata": {},
   "outputs": [],
   "source": []
  },
  {
   "cell_type": "code",
   "execution_count": 70,
   "metadata": {},
   "outputs": [],
   "source": [
    "fpr, tpr, thres = roc_curve(test_y['default_flag'], y_score[:, 1])"
   ]
  },
  {
   "cell_type": "code",
   "execution_count": 71,
   "metadata": {},
   "outputs": [],
   "source": [
    "roc_auc = auc(fpr, tpr)"
   ]
  },
  {
   "cell_type": "code",
   "execution_count": 72,
   "metadata": {},
   "outputs": [
    {
     "data": {
      "image/png": "[encoded data removed]",
      "text/plain": [
       "<Figure size 504x360 with 1 Axes>"
      ]
     },
     "metadata": {
      "needs_background": "light"
     },
     "output_type": "display_data"
    }
   ],
   "source": [
    "plt.figure(figsize = (7, 5))\n",
    "lw = 2\n",
    "plt.plot(fpr, tpr, color='darkorange',\n",
    "         lw=2, label='ROC curve (area = %0.2f)' % roc_auc)\n",
    "plt.plot([0, 1], [0, 1], color='navy', lw=2, linestyle='--')\n",
    "plt.xlim([0.0, 1.0])\n",
    "plt.ylim([0.0, 1.05])\n",
    "plt.xlabel('False Positive Rate')\n",
    "plt.ylabel('True Positive Rate')\n",
    "plt.title('Receiver operating characteristic example')\n",
    "plt.legend(loc=\"lower right\")\n",
    "plt.show()"
   ]
  },
  {
   "cell_type": "code",
   "execution_count": null,
   "metadata": {},
   "outputs": [],
   "source": [
    "#0.62"
   ]
  },
  {
   "cell_type": "code",
   "execution_count": null,
   "metadata": {},
   "outputs": [],
   "source": []
  },
  {
   "cell_type": "code",
   "execution_count": null,
   "metadata": {},
   "outputs": [],
   "source": []
  },
  {
   "cell_type": "code",
   "execution_count": null,
   "metadata": {},
   "outputs": [],
   "source": []
  },
  {
   "cell_type": "code",
   "execution_count": null,
   "metadata": {},
   "outputs": [],
   "source": []
  },
  {
   "cell_type": "code",
   "execution_count": null,
   "metadata": {},
   "outputs": [],
   "source": []
  },
  {
   "cell_type": "code",
   "execution_count": null,
   "metadata": {},
   "outputs": [],
   "source": []
  },
  {
   "cell_type": "code",
   "execution_count": null,
   "metadata": {},
   "outputs": [],
   "source": []
  },
  {
   "cell_type": "code",
   "execution_count": null,
   "metadata": {},
   "outputs": [],
   "source": []
  },
  {
   "cell_type": "code",
   "execution_count": null,
   "metadata": {},
   "outputs": [],
   "source": []
  },
  {
   "cell_type": "code",
   "execution_count": null,
   "metadata": {},
   "outputs": [],
   "source": []
  },
  {
   "cell_type": "code",
   "execution_count": null,
   "metadata": {},
   "outputs": [],
   "source": []
  },
  {
   "cell_type": "code",
   "execution_count": null,
   "metadata": {},
   "outputs": [],
   "source": []
  },
  {
   "cell_type": "code",
   "execution_count": null,
   "metadata": {},
   "outputs": [],
   "source": []
  },
  {
   "cell_type": "code",
   "execution_count": null,
   "metadata": {},
   "outputs": [],
   "source": []
  },
  {
   "cell_type": "code",
   "execution_count": null,
   "metadata": {},
   "outputs": [],
   "source": []
  },
  {
   "cell_type": "code",
   "execution_count": null,
   "metadata": {},
   "outputs": [],
   "source": []
  },
  {
   "cell_type": "code",
   "execution_count": null,
   "metadata": {},
   "outputs": [],
   "source": []
  },
  {
   "cell_type": "code",
   "execution_count": null,
   "metadata": {},
   "outputs": [],
   "source": []
  },
  {
   "cell_type": "code",
   "execution_count": null,
   "metadata": {},
   "outputs": [],
   "source": []
  },
  {
   "cell_type": "code",
   "execution_count": null,
   "metadata": {},
   "outputs": [],
   "source": []
  },
  {
   "cell_type": "code",
   "execution_count": null,
   "metadata": {},
   "outputs": [],
   "source": []
  },
  {
   "cell_type": "code",
   "execution_count": null,
   "metadata": {},
   "outputs": [],
   "source": [
    "def sample_data(val):\n",
    "    if val > 0:\n",
    "        return True\n",
    "    else:\n",
    "        return np.random.rand() < 0.05"
   ]
  },
  {
   "cell_type": "code",
   "execution_count": null,
   "metadata": {},
   "outputs": [],
   "source": [
    "#ind = train_y['default_flag'].apply(sample_data)"
   ]
  },
  {
   "cell_type": "code",
   "execution_count": null,
   "metadata": {},
   "outputs": [],
   "source": [
    "#train_x, train_y = train_x.loc[ind], train_y.loc[ind]"
   ]
  },
  {
   "cell_type": "code",
   "execution_count": null,
   "metadata": {},
   "outputs": [],
   "source": [
    "#ind.shape"
   ]
  },
  {
   "cell_type": "code",
   "execution_count": null,
   "metadata": {},
   "outputs": [],
   "source": [
    "#train_x.shape"
   ]
  },
  {
   "cell_type": "code",
   "execution_count": null,
   "metadata": {},
   "outputs": [],
   "source": [
    "#ada_model = AdaBoostClassifier(n_estimators=100)"
   ]
  },
  {
   "cell_type": "code",
   "execution_count": null,
   "metadata": {},
   "outputs": [],
   "source": [
    "#ada_model.fit(train_x, train_y)"
   ]
  },
  {
   "cell_type": "code",
   "execution_count": null,
   "metadata": {},
   "outputs": [],
   "source": [
    "#ada_preds = ada_model.predict(test_x)"
   ]
  },
  {
   "cell_type": "code",
   "execution_count": null,
   "metadata": {},
   "outputs": [],
   "source": [
    "#plot_confusion_matrix(test_y.astype(int), ada_preds.astype(int), classes=np.array([0,1]))"
   ]
  },
  {
   "cell_type": "code",
   "execution_count": null,
   "metadata": {},
   "outputs": [],
   "source": []
  },
  {
   "cell_type": "code",
   "execution_count": 73,
   "metadata": {},
   "outputs": [],
   "source": [
    "pos_ind = train_y['default_flag'].astype(int) == 1"
   ]
  },
  {
   "cell_type": "code",
   "execution_count": 74,
   "metadata": {},
   "outputs": [],
   "source": [
    "pos_train_x = train_x[pos_ind]\n",
    "pos_train_y = train_y[pos_ind]"
   ]
  },
  {
   "cell_type": "code",
   "execution_count": 75,
   "metadata": {},
   "outputs": [],
   "source": [
    "neg_train_x = train_x[~pos_ind]\n",
    "neg_train_y = train_y[~pos_ind]"
   ]
  },
  {
   "cell_type": "code",
   "execution_count": 76,
   "metadata": {},
   "outputs": [],
   "source": [
    "neg_x_sets = np.array_split(neg_train_x, 1400)\n",
    "neg_y_sets = np.array_split(neg_train_y, 1400)"
   ]
  },
  {
   "cell_type": "code",
   "execution_count": 77,
   "metadata": {},
   "outputs": [],
   "source": [
    "models = []"
   ]
  },
  {
   "cell_type": "code",
   "execution_count": 78,
   "metadata": {},
   "outputs": [
    {
     "data": {
      "text/plain": [
       "(105, 43)"
      ]
     },
     "execution_count": 78,
     "metadata": {},
     "output_type": "execute_result"
    }
   ],
   "source": [
    "neg_x_sets[0].shape"
   ]
  },
  {
   "cell_type": "code",
   "execution_count": 79,
   "metadata": {},
   "outputs": [],
   "source": [
    "layer_sizes = (64, 64)"
   ]
  },
  {
   "cell_type": "code",
   "execution_count": 80,
   "metadata": {},
   "outputs": [
    {
     "name": "stderr",
     "output_type": "stream",
     "text": [
      "100%|██████████| 1400/1400 [00:23<00:00, 57.19it/s]\n"
     ]
    }
   ],
   "source": [
    "for i in tqdm(range(len(neg_x_sets))):\n",
    "    training_x_data = pd.concat([pos_train_x, neg_x_sets[i]])\n",
    "    training_y_data = pd.concat([pos_train_y, neg_y_sets[i]])\n",
    "    #print(\"X\", training_x_data.index)\n",
    "    #print(\"Y\", training_y_data.index)\n",
    "    training_x_data = training_x_data.sample(frac=1)\n",
    "    ind = training_x_data.index\n",
    "    #print(\"new X\", ind)\n",
    "    training_y_data = training_y_data.loc[ind]\n",
    "    #print(\"new Y\", training_y_data.index)\n",
    "    _tmp_model = MLPClassifier(hidden_layer_sizes=layer_sizes)\n",
    "    _tmp_model.fit(training_x_data, training_y_data.values.ravel())\n",
    "    models.append(_tmp_model)\n",
    "    #break"
   ]
  },
  {
   "cell_type": "code",
   "execution_count": null,
   "metadata": {},
   "outputs": [],
   "source": []
  },
  {
   "cell_type": "code",
   "execution_count": 81,
   "metadata": {},
   "outputs": [
    {
     "name": "stderr",
     "output_type": "stream",
     "text": [
      "100%|██████████| 1400/1400 [03:22<00:00,  7.16it/s]\n"
     ]
    }
   ],
   "source": [
    "\n",
    "n = train_x.shape[0]\n",
    "results = np.zeros((n, 1))\n",
    "for _tmp_model in tqdm(models):\n",
    "    out = _tmp_model.predict_proba(train_x) ## use train data\n",
    "    results += out[:, 1].reshape(n,1)\n",
    "    #break"
   ]
  },
  {
   "cell_type": "code",
   "execution_count": 82,
   "metadata": {},
   "outputs": [],
   "source": [
    "#y_score = np.hstack(results).mean(axis=1)\n",
    "results.shape\n",
    "y_score = results.ravel()"
   ]
  },
  {
   "cell_type": "code",
   "execution_count": 83,
   "metadata": {},
   "outputs": [],
   "source": [
    "fpr, tpr, thres = roc_curve(train_y['default_flag'], y_score)"
   ]
  },
  {
   "cell_type": "code",
   "execution_count": 84,
   "metadata": {},
   "outputs": [],
   "source": [
    "roc_auc = auc(fpr, tpr)"
   ]
  },
  {
   "cell_type": "code",
   "execution_count": null,
   "metadata": {},
   "outputs": [],
   "source": []
  },
  {
   "cell_type": "code",
   "execution_count": 85,
   "metadata": {},
   "outputs": [
    {
     "data": {
      "image/png": "[encoded data removed]",
      "text/plain": [
       "<Figure size 432x288 with 1 Axes>"
      ]
     },
     "metadata": {
      "needs_background": "light"
     },
     "output_type": "display_data"
    }
   ],
   "source": [
    "plt.figure()\n",
    "lw = 2\n",
    "plt.plot(fpr, tpr, color='darkorange',\n",
    "         lw=2, label='Training ROC curve (area = %0.2f)' % roc_auc)\n",
    "plt.plot([0, 1], [0, 1], color='navy', lw=2, linestyle='--')\n",
    "plt.xlim([0.0, 1.0])\n",
    "plt.ylim([0.0, 1.05])\n",
    "plt.xlabel('False Positive Rate')\n",
    "plt.ylabel('True Positive Rate')\n",
    "plt.title('Receiver operating characteristic example')\n",
    "plt.legend(loc=\"lower right\")\n",
    "plt.show()"
   ]
  },
  {
   "cell_type": "code",
   "execution_count": null,
   "metadata": {},
   "outputs": [],
   "source": []
  },
  {
   "cell_type": "code",
   "execution_count": 86,
   "metadata": {},
   "outputs": [],
   "source": [
    "#np.hstack(results).mean(axis=1)"
   ]
  },
  {
   "cell_type": "code",
   "execution_count": 87,
   "metadata": {},
   "outputs": [],
   "source": [
    "#array([0.01318453, 0.01143215, 0.02020618, 0.0125    , 0.01078626,\n",
    "#       0.02300306, 0.0112357 ])"
   ]
  },
  {
   "cell_type": "code",
   "execution_count": null,
   "metadata": {},
   "outputs": [],
   "source": []
  },
  {
   "cell_type": "code",
   "execution_count": 88,
   "metadata": {},
   "outputs": [
    {
     "name": "stderr",
     "output_type": "stream",
     "text": [
      "100%|██████████| 1400/1400 [00:58<00:00, 22.84it/s]\n"
     ]
    }
   ],
   "source": [
    "\n",
    "n = test_x.shape[0]\n",
    "test_results = np.zeros((n, 1))\n",
    "for _tmp_model in tqdm(models):\n",
    "    out = _tmp_model.predict_proba(test_x) ## use test data\n",
    "    test_results += out[:, 1].reshape(n,1)\n",
    "    #break"
   ]
  },
  {
   "cell_type": "code",
   "execution_count": null,
   "metadata": {},
   "outputs": [],
   "source": []
  },
  {
   "cell_type": "code",
   "execution_count": 89,
   "metadata": {},
   "outputs": [
    {
     "name": "stderr",
     "output_type": "stream",
     "text": [
      "100%|██████████| 1400/1400 [01:07<00:00, 20.42it/s]\n"
     ]
    }
   ],
   "source": [
    "test_results = []\n",
    "for _tmp_model in tqdm(models):\n",
    "    out = _tmp_model.predict_proba(test_x) ## use test data\n",
    "    test_results.append(out[:, 1].reshape(n,1))\n",
    "    #break"
   ]
  },
  {
   "cell_type": "code",
   "execution_count": 90,
   "metadata": {},
   "outputs": [],
   "source": [
    "y_score = np.hstack(test_results).max(axis=1)"
   ]
  },
  {
   "cell_type": "code",
   "execution_count": 91,
   "metadata": {},
   "outputs": [],
   "source": [
    "#y_score = test_results.ravel() / n"
   ]
  },
  {
   "cell_type": "code",
   "execution_count": 92,
   "metadata": {},
   "outputs": [],
   "source": [
    "fpr, tpr, thres = roc_curve(test_y['default_flag'], y_score)"
   ]
  },
  {
   "cell_type": "code",
   "execution_count": 93,
   "metadata": {},
   "outputs": [],
   "source": [
    "roc_auc = auc(fpr, tpr)"
   ]
  },
  {
   "cell_type": "code",
   "execution_count": 94,
   "metadata": {},
   "outputs": [
    {
     "data": {
      "image/png": "[encoded data removed]",
      "text/plain": [
       "<Figure size 504x360 with 1 Axes>"
      ]
     },
     "metadata": {
      "needs_background": "light"
     },
     "output_type": "display_data"
    }
   ],
   "source": [
    "plt.figure(figsize=(7, 5))\n",
    "lw = 2\n",
    "plt.plot(fpr, tpr, color='darkorange',\n",
    "         lw=2, label='Test ROC curve (area = %0.2f)' % roc_auc)\n",
    "plt.plot([0, 1], [0, 1], color='navy', lw=2, linestyle='--')\n",
    "plt.xlim([0.0, 1.0])\n",
    "plt.ylim([0.0, 1.05])\n",
    "plt.xlabel('False Positive Rate')\n",
    "plt.ylabel('True Positive Rate')\n",
    "plt.title('Receiver operating characteristic example')\n",
    "plt.legend(loc=\"lower right\")\n",
    "plt.show()"
   ]
  },
  {
   "cell_type": "code",
   "execution_count": 95,
   "metadata": {},
   "outputs": [],
   "source": [
    "preds = y_score > 0.5"
   ]
  },
  {
   "cell_type": "code",
   "execution_count": null,
   "metadata": {},
   "outputs": [],
   "source": []
  },
  {
   "cell_type": "code",
   "execution_count": 96,
   "metadata": {},
   "outputs": [
    {
     "name": "stdout",
     "output_type": "stream",
     "text": [
      "Confusion matrix, without normalization\n",
      "[[    0 48637]\n",
      " [    0     2]]\n"
     ]
    },
    {
     "data": {
      "text/plain": [
       "<matplotlib.axes._subplots.AxesSubplot at 0x7fce9517ca90>"
      ]
     },
     "execution_count": 96,
     "metadata": {},
     "output_type": "execute_result"
    },
    {
     "data": {
      "image/png": "[encoded data removed]",
      "text/plain": [
       "<Figure size 432x288 with 2 Axes>"
      ]
     },
     "metadata": {
      "needs_background": "light"
     },
     "output_type": "display_data"
    }
   ],
   "source": [
    "plot_confusion_matrix(test_y.astype(int), preds.astype(int), classes=np.array([0,1]))"
   ]
  },
  {
   "cell_type": "code",
   "execution_count": null,
   "metadata": {},
   "outputs": [],
   "source": []
  },
  {
   "cell_type": "code",
   "execution_count": null,
   "metadata": {},
   "outputs": [],
   "source": []
  }
 ],
 "metadata": {
  "kernelspec": {
   "display_name": "Python 3",
   "language": "python",
   "name": "python3"
  },
  "language_info": {
   "codemirror_mode": {
    "name": "ipython",
    "version": 3
   },
   "file_extension": ".py",
   "mimetype": "text/x-python",
   "name": "python",
   "nbconvert_exporter": "python",
   "pygments_lexer": "ipython3",
   "version": "3.6.8"
  }
 },
 "nbformat": 4,
 "nbformat_minor": 2
}
